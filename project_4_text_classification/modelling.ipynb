{
 "cells": [
  {
   "cell_type": "code",
   "execution_count": 1,
   "metadata": {},
   "outputs": [],
   "source": [
    "import argparse\n",
    "import pickle\n",
    "\n",
    "import pandas as pd\n",
    "import numpy as np\n",
    "\n",
    "from sklearn.linear_model import LogisticRegression\n",
    "from sklearn.ensemble import RandomForestClassifier \n",
    "from sklearn.naive_bayes import MultinomialNB\n",
    "from sklearn.model_selection import cross_val_score\n",
    "from sklearn.model_selection import GridSearchCV\n",
    "from sklearn import svm\n",
    "\n",
    "from sklearn.feature_extraction.text import CountVectorizer\n",
    "from sklearn.feature_extraction.text import TfidfVectorizer, TfidfTransformer\n",
    "\n",
    "from sklearn.metrics import accuracy_score, precision_score, recall_score, confusion_matrix, f1_score\n",
    "from sklearn.metrics import classification_report"
   ]
  },
  {
   "cell_type": "code",
   "execution_count": 2,
   "metadata": {},
   "outputs": [],
   "source": [
    "tdifd_new_X = pickle.load(open('vector_lyrics_1.pkl', 'rb'))"
   ]
  },
  {
   "cell_type": "code",
   "execution_count": 3,
   "metadata": {},
   "outputs": [],
   "source": [
    "tdifd_new_X_test = pickle.load(open('vector_lyrics_test_1.pkl', 'rb'))"
   ]
  },
  {
   "cell_type": "code",
   "execution_count": 4,
   "metadata": {},
   "outputs": [],
   "source": [
    "tdifd_X = pickle.load(open('vector_lyrics_2.pkl', 'rb'))"
   ]
  },
  {
   "cell_type": "code",
   "execution_count": 5,
   "metadata": {},
   "outputs": [],
   "source": [
    "tdifd_X_test = pickle.load(open('vector_lyrics_test_2.pkl', 'rb'))"
   ]
  },
  {
   "cell_type": "code",
   "execution_count": 6,
   "metadata": {},
   "outputs": [],
   "source": [
    "y_train = pickle.load(open('y_train.pkl', 'rb'))"
   ]
  },
  {
   "cell_type": "code",
   "execution_count": 7,
   "metadata": {},
   "outputs": [],
   "source": [
    "y_test = pickle.load(open('y_test.pkl', 'rb'))"
   ]
  },
  {
   "cell_type": "markdown",
   "metadata": {},
   "source": [
    "#### Apply different models and meta estimator classifier on the data:\n",
    "\n",
    "1. Logistic Regression.\n",
    "2. Random Forest Classifier\n",
    "3. Naive Bayes. "
   ]
  },
  {
   "cell_type": "markdown",
   "metadata": {},
   "source": [
    "<b> Logistic Regression </b>"
   ]
  },
  {
   "cell_type": "code",
   "execution_count": 8,
   "metadata": {},
   "outputs": [
    {
     "data": {
      "text/plain": [
       "LogisticRegression(C=0.1)"
      ]
     },
     "execution_count": 8,
     "metadata": {},
     "output_type": "execute_result"
    }
   ],
   "source": [
    "lr_model = LogisticRegression(C=0.1)\n",
    "#lr_model = LogisticRegression()#this gave 0.9333333\n",
    "lr_model.fit(tdifd_new_X, y_train)"
   ]
  },
  {
   "cell_type": "code",
   "execution_count": 9,
   "metadata": {},
   "outputs": [
    {
     "name": "stdout",
     "output_type": "stream",
     "text": [
      "Train score with LogReg: 0.88\n"
     ]
    }
   ],
   "source": [
    "print(\"Train score with LogReg:\",lr_model.score(tdifd_new_X,y_train))"
   ]
  },
  {
   "cell_type": "code",
   "execution_count": 10,
   "metadata": {},
   "outputs": [
    {
     "name": "stdout",
     "output_type": "stream",
     "text": [
      "Test score with LogReg: 0.9\n"
     ]
    }
   ],
   "source": [
    "print(\"Test score with LogReg:\",lr_model.score(tdifd_new_X_test,y_test))"
   ]
  },
  {
   "cell_type": "markdown",
   "metadata": {},
   "source": [
    "#### Observation.\n",
    "\n",
    "The previous linear model -without C=0.1- would gave as a test score 0.84. Eventhought \n",
    "0.9 seems a high score, the previous one had a big difference between train and test score , so probably is prone to\n",
    "be high biased."
   ]
  },
  {
   "cell_type": "code",
   "execution_count": 11,
   "metadata": {},
   "outputs": [
    {
     "data": {
      "text/plain": [
       "array([[0.0064763 , 0.3867877 , 0.00643822, 0.60029778],\n",
       "       [0.0067253 , 0.54818175, 0.00682005, 0.43827289],\n",
       "       [0.0068627 , 0.49829364, 0.00682489, 0.48801878],\n",
       "       [0.00652318, 0.39506276, 0.00654947, 0.59186459],\n",
       "       [0.00662121, 0.60022685, 0.0065603 , 0.38659164],\n",
       "       [0.00673759, 0.52240611, 0.00667314, 0.46418316],\n",
       "       [0.00669878, 0.45408743, 0.00692364, 0.53229015],\n",
       "       [0.00681862, 0.56338892, 0.00663937, 0.42315309],\n",
       "       [0.00700043, 0.48167353, 0.00683709, 0.50448895],\n",
       "       [0.00662713, 0.53951421, 0.0066663 , 0.44719237],\n",
       "       [0.00700043, 0.48167353, 0.00683709, 0.50448895],\n",
       "       [0.00678157, 0.53175765, 0.00686441, 0.45459637],\n",
       "       [0.00682165, 0.54496921, 0.00674759, 0.44146155],\n",
       "       [0.0065163 , 0.60254924, 0.00652916, 0.3844053 ],\n",
       "       [0.00700043, 0.48167353, 0.00683709, 0.50448895],\n",
       "       [0.00645595, 0.6153072 , 0.00643213, 0.37180471],\n",
       "       [0.00662672, 0.46767073, 0.0065986 , 0.51910395],\n",
       "       [0.00643954, 0.63417455, 0.00638812, 0.35299779],\n",
       "       [0.00637346, 0.35872402, 0.00642898, 0.62847354],\n",
       "       [0.00670724, 0.45482113, 0.00663451, 0.53183712],\n",
       "       [0.00672818, 0.46345314, 0.00680136, 0.52301733],\n",
       "       [0.0065163 , 0.60254924, 0.00652916, 0.3844053 ],\n",
       "       [0.00662514, 0.4013249 , 0.00659081, 0.58545915],\n",
       "       [0.00670498, 0.54222884, 0.00675642, 0.44430976],\n",
       "       [0.00683201, 0.55013669, 0.006867  , 0.4361643 ],\n",
       "       [0.00708498, 0.55277622, 0.00681542, 0.43332338],\n",
       "       [0.00673759, 0.52240611, 0.00667314, 0.46418316],\n",
       "       [0.00664911, 0.49822851, 0.00672197, 0.4884004 ],\n",
       "       [0.00662811, 0.49366059, 0.0067288 , 0.49298251],\n",
       "       [0.00666837, 0.45251103, 0.00677431, 0.53404628],\n",
       "       [0.00663899, 0.45920021, 0.0067612 , 0.5273996 ],\n",
       "       [0.00670724, 0.45482113, 0.00663451, 0.53183712],\n",
       "       [0.00640801, 0.64151417, 0.00635341, 0.34572441],\n",
       "       [0.00656825, 0.59438893, 0.00679899, 0.39224383],\n",
       "       [0.00637346, 0.35872402, 0.00642898, 0.62847354],\n",
       "       [0.00679362, 0.45949308, 0.00706857, 0.52664474],\n",
       "       [0.00662121, 0.60022685, 0.0065603 , 0.38659164],\n",
       "       [0.00666837, 0.45251103, 0.00677431, 0.53404628],\n",
       "       [0.00663821, 0.45054364, 0.00662451, 0.53619365],\n",
       "       [0.00678958, 0.5122799 , 0.00675736, 0.47417315],\n",
       "       [0.00658685, 0.57980392, 0.00660845, 0.40700079],\n",
       "       [0.00664822, 0.40479863, 0.00660122, 0.58195193],\n",
       "       [0.00637346, 0.35872402, 0.00642898, 0.62847354],\n",
       "       [0.00662191, 0.55277073, 0.0067053 , 0.43390206],\n",
       "       [0.00678892, 0.56459064, 0.00669027, 0.42193017],\n",
       "       [0.00671631, 0.46692921, 0.006764  , 0.51959048],\n",
       "       [0.00651665, 0.39950046, 0.00659188, 0.587391  ],\n",
       "       [0.00669866, 0.5567882 , 0.00671537, 0.42979778],\n",
       "       [0.00666926, 0.50528477, 0.00668519, 0.48136077],\n",
       "       [0.00662713, 0.53951421, 0.0066663 , 0.44719237]])"
      ]
     },
     "execution_count": 11,
     "metadata": {},
     "output_type": "execute_result"
    }
   ],
   "source": [
    "lr_model.predict_proba(tdifd_new_X_test)"
   ]
  },
  {
   "cell_type": "markdown",
   "metadata": {},
   "source": [
    "#### Logistic Regression with the other data: X_train data."
   ]
  },
  {
   "cell_type": "code",
   "execution_count": 12,
   "metadata": {},
   "outputs": [
    {
     "data": {
      "text/plain": [
       "LogisticRegression(C=0.1)"
      ]
     },
     "execution_count": 12,
     "metadata": {},
     "output_type": "execute_result"
    }
   ],
   "source": [
    "lr_model = LogisticRegression(C=0.1)\n",
    "lr_model.fit(tdifd_X, y_train)"
   ]
  },
  {
   "cell_type": "code",
   "execution_count": 13,
   "metadata": {},
   "outputs": [
    {
     "name": "stdout",
     "output_type": "stream",
     "text": [
      "Train score with LogReg: 0.96\n"
     ]
    }
   ],
   "source": [
    "print(\"Train score with LogReg:\",lr_model.score(tdifd_X,y_train))"
   ]
  },
  {
   "cell_type": "code",
   "execution_count": 14,
   "metadata": {},
   "outputs": [
    {
     "name": "stdout",
     "output_type": "stream",
     "text": [
      "Test score with LogReg: 0.72\n"
     ]
    }
   ],
   "source": [
    "print(\"Test score with LogReg:\",lr_model.score(tdifd_X_test,y_test))"
   ]
  },
  {
   "cell_type": "markdown",
   "metadata": {},
   "source": [
    "#### Observation.\n",
    "Big difference between train and test score."
   ]
  },
  {
   "cell_type": "markdown",
   "metadata": {},
   "source": [
    "#### Perform cross validation to see which performs better."
   ]
  },
  {
   "cell_type": "code",
   "execution_count": 15,
   "metadata": {},
   "outputs": [
    {
     "name": "stderr",
     "output_type": "stream",
     "text": [
      "/opt/anaconda3/lib/python3.8/site-packages/sklearn/model_selection/_split.py:666: UserWarning: The least populated class in y has only 1 members, which is less than n_splits=5.\n",
      "  warnings.warn((\"The least populated class in y has only %d\"\n"
     ]
    },
    {
     "data": {
      "text/plain": [
       "array([0.8       , 0.76666667, 0.76666667, 0.86666667, 0.7       ])"
      ]
     },
     "execution_count": 15,
     "metadata": {},
     "output_type": "execute_result"
    }
   ],
   "source": [
    "cvs_X_new = cross_val_score(lr_model, tdifd_new_X, y_train)\n",
    "cvs_X_new"
   ]
  },
  {
   "cell_type": "code",
   "execution_count": 16,
   "metadata": {},
   "outputs": [
    {
     "name": "stderr",
     "output_type": "stream",
     "text": [
      "/opt/anaconda3/lib/python3.8/site-packages/sklearn/model_selection/_split.py:666: UserWarning: The least populated class in y has only 1 members, which is less than n_splits=5.\n",
      "  warnings.warn((\"The least populated class in y has only %d\"\n"
     ]
    },
    {
     "data": {
      "text/plain": [
       "array([0.83333333, 0.83333333, 0.83333333, 0.83333333, 0.86666667])"
      ]
     },
     "execution_count": 16,
     "metadata": {},
     "output_type": "execute_result"
    }
   ],
   "source": [
    "cvs_X = cross_val_score(lr_model, tdifd_X, y_train)\n",
    "cvs_X"
   ]
  },
  {
   "cell_type": "markdown",
   "metadata": {},
   "source": [
    "#### Observation.\n",
    "\n",
    "The model with the X_train data seems to perform better, thereforE i will continue with 'tdifd_new_X' and 'tdifd_new_X_test' for the next models."
   ]
  },
  {
   "cell_type": "markdown",
   "metadata": {},
   "source": [
    "<b> Random Forest Classifier.</b>"
   ]
  },
  {
   "cell_type": "code",
   "execution_count": 17,
   "metadata": {},
   "outputs": [
    {
     "data": {
      "text/plain": [
       "RandomForestClassifier()"
      ]
     },
     "execution_count": 17,
     "metadata": {},
     "output_type": "execute_result"
    }
   ],
   "source": [
    "clf = RandomForestClassifier()\n",
    "clf.fit(tdifd_X, y_train)"
   ]
  },
  {
   "cell_type": "code",
   "execution_count": 18,
   "metadata": {},
   "outputs": [
    {
     "name": "stdout",
     "output_type": "stream",
     "text": [
      "Fitting 2 folds for each of 16 candidates, totalling 32 fits\n"
     ]
    },
    {
     "name": "stderr",
     "output_type": "stream",
     "text": [
      "/opt/anaconda3/lib/python3.8/site-packages/sklearn/model_selection/_split.py:666: UserWarning: The least populated class in y has only 1 members, which is less than n_splits=2.\n",
      "  warnings.warn((\"The least populated class in y has only %d\"\n"
     ]
    },
    {
     "data": {
      "text/plain": [
       "({'max_depth': 80, 'max_features': 3, 'n_estimators': 200}, 0.86)"
      ]
     },
     "execution_count": 18,
     "metadata": {},
     "output_type": "execute_result"
    }
   ],
   "source": [
    "param_grid = {\n",
    "    'max_depth': [80, 90, 100, 110],'max_features': [2, 3],'n_estimators' : [100,200]\n",
    "}\n",
    "grid_search = GridSearchCV(estimator = clf, param_grid = param_grid, \n",
    "                          cv = 2, verbose = True)\n",
    "grid_search.fit(tdifd_X, y_train)\n",
    "grid_search.best_params_, grid_search.best_score_"
   ]
  },
  {
   "cell_type": "code",
   "execution_count": 28,
   "metadata": {},
   "outputs": [],
   "source": [
    "clf = RandomForestClassifier(max_depth = 80, max_features = 3, n_estimators = 200)"
   ]
  },
  {
   "cell_type": "code",
   "execution_count": 29,
   "metadata": {},
   "outputs": [
    {
     "data": {
      "text/plain": [
       "RandomForestClassifier(max_depth=80, max_features=3, n_estimators=200)"
      ]
     },
     "execution_count": 29,
     "metadata": {},
     "output_type": "execute_result"
    }
   ],
   "source": [
    "clf.fit(tdifd_X, y_train)"
   ]
  },
  {
   "cell_type": "code",
   "execution_count": 30,
   "metadata": {},
   "outputs": [
    {
     "name": "stdout",
     "output_type": "stream",
     "text": [
      "Train score with Random Forest Cl.: 1.0\n"
     ]
    }
   ],
   "source": [
    "print(\"Train score with Random Forest Classifier.:\",clf.score(tdifd_X,y_train))"
   ]
  },
  {
   "cell_type": "code",
   "execution_count": 31,
   "metadata": {},
   "outputs": [
    {
     "name": "stdout",
     "output_type": "stream",
     "text": [
      "Test score with Random Forest Cl.: 0.9\n"
     ]
    }
   ],
   "source": [
    "print(\"Test score with Random Forest Classifier.:\",clf.score(tdifd_X_test,y_test))"
   ]
  },
  {
   "cell_type": "code",
   "execution_count": 66,
   "metadata": {},
   "outputs": [
    {
     "data": {
      "text/plain": [
       "array([0., 0., 0., ..., 0., 0., 0.])"
      ]
     },
     "execution_count": 66,
     "metadata": {},
     "output_type": "execute_result"
    }
   ],
   "source": [
    "clf.feature_importances_"
   ]
  },
  {
   "cell_type": "markdown",
   "metadata": {},
   "source": [
    "<b> Naive Bayes </b>"
   ]
  },
  {
   "cell_type": "code",
   "execution_count": 38,
   "metadata": {},
   "outputs": [
    {
     "name": "stderr",
     "output_type": "stream",
     "text": [
      "/opt/anaconda3/lib/python3.8/site-packages/sklearn/model_selection/_split.py:666: UserWarning: The least populated class in y has only 1 members, which is less than n_splits=5.\n",
      "  warnings.warn((\"The least populated class in y has only %d\"\n"
     ]
    },
    {
     "data": {
      "text/plain": [
       "({'alpha': 0.1}, 0.86)"
      ]
     },
     "execution_count": 38,
     "metadata": {},
     "output_type": "execute_result"
    }
   ],
   "source": [
    "nb = MultinomialNB()\n",
    "parameters = {'alpha': (1, 0.1, 0.01, 0.001, 0.0001, 0.00001)}  \n",
    "grid_nb_search= GridSearchCV(nb, parameters)\n",
    "grid_nb_search.fit(tdifd_X, y_train)\n",
    "grid_nb_search.best_params_, grid_search.best_score_"
   ]
  },
  {
   "cell_type": "code",
   "execution_count": 40,
   "metadata": {},
   "outputs": [
    {
     "data": {
      "text/plain": [
       "MultinomialNB(alpha=0.1)"
      ]
     },
     "execution_count": 40,
     "metadata": {},
     "output_type": "execute_result"
    }
   ],
   "source": [
    "nb = MultinomialNB(alpha=0.1)\n",
    "nb.fit(tdifd_X, y_train)"
   ]
  },
  {
   "cell_type": "code",
   "execution_count": 41,
   "metadata": {},
   "outputs": [
    {
     "name": "stdout",
     "output_type": "stream",
     "text": [
      "Train score with Multinomial NB: 0.9866666666666667\n"
     ]
    }
   ],
   "source": [
    "print(\"Train score with Multinomial NB:\",nb.score(tdifd_X, y_train))"
   ]
  },
  {
   "cell_type": "code",
   "execution_count": 42,
   "metadata": {},
   "outputs": [
    {
     "name": "stdout",
     "output_type": "stream",
     "text": [
      "Test score with Random Forest Classifier.: 0.82\n"
     ]
    }
   ],
   "source": [
    "print(\"Test score with Random Forest Classifier.:\",nb.score(tdifd_X_test,y_test))"
   ]
  },
  {
   "cell_type": "code",
   "execution_count": 75,
   "metadata": {},
   "outputs": [
    {
     "data": {
      "text/plain": [
       "0.72"
      ]
     },
     "execution_count": 75,
     "metadata": {},
     "output_type": "execute_result"
    }
   ],
   "source": [
    "ypred = lr_model.predict(tdifd_X_test)\n",
    "acc = round(accuracy_score(ypred,y_test), 3)\n",
    "acc"
   ]
  },
  {
   "cell_type": "code",
   "execution_count": 86,
   "metadata": {},
   "outputs": [],
   "source": [
    "tf_2 = pickle.load(open('tf_2.pkl', 'rb'))"
   ]
  },
  {
   "cell_type": "markdown",
   "metadata": {},
   "source": [
    "<b> Command line interface program with the module args parse. </b>"
   ]
  },
  {
   "cell_type": "code",
   "execution_count": null,
   "metadata": {},
   "outputs": [],
   "source": [
    "parser = argparse.ArgumentParser(description='find the artist')\n",
    "parser.add_argument('-l', '--lyrics', help='the lyrics to identify the artist', type=str, \n",
    "                    default=None, required=True)\n",
    "parser.add_argument'-u','--url', help='URL of lyrics site',action='store', dest='url',default=None, required=True)\n",
    "parser.add_argument('-v', '--verbose', action='count', default=0)\n",
    "args = parser.parse_args()\n",
    "\n",
    "lyrics = args.lyrics"
   ]
  },
  {
   "cell_type": "code",
   "execution_count": 143,
   "metadata": {},
   "outputs": [],
   "source": [
    "def call_script_in_cli(lyrics)->str:\n",
    "    #lyrics = args.lyrics\n",
    "    \n",
    "#convert the string taken from the command line to a list, so as to be accepted from the\n",
    "#transform function\n",
    "    lyric = [lyrics]\n",
    "    string=tf_2.transform(lyric)\n",
    "    artist = lr_model.predict(string)\n",
    "    print(artist[0])\n",
    "    \n",
    "    if artist[0] == 1:\n",
    "        print('Queen')\n",
    "    elif artist.any() == 0:\n",
    "        print('Pixies')\n",
    "    else:\n",
    "        print('Try again')"
   ]
  },
  {
   "cell_type": "code",
   "execution_count": 144,
   "metadata": {},
   "outputs": [
    {
     "name": "stdout",
     "output_type": "stream",
     "text": [
      "1  \n",
      "Try again\n"
     ]
    }
   ],
   "source": [
    "call_script_in_cli('oh oh you don t fool me you don t fool me you')"
   ]
  },
  {
   "cell_type": "markdown",
   "metadata": {},
   "source": [
    "#### Test if it works!"
   ]
  },
  {
   "cell_type": "code",
   "execution_count": 146,
   "metadata": {},
   "outputs": [
    {
     "data": {
      "text/plain": [
       "array(['1  '], dtype=object)"
      ]
     },
     "execution_count": 146,
     "metadata": {},
     "output_type": "execute_result"
    }
   ],
   "source": [
    "lyric = ['oh oh you don t fool me you don t fool me you']\n",
    "string=tf_2.transform(lyric)\n",
    "artist = lr_model.predict(string)\n",
    "artist"
   ]
  }
 ],
 "metadata": {
  "kernelspec": {
   "display_name": "Python 3",
   "language": "python",
   "name": "python3"
  },
  "language_info": {
   "codemirror_mode": {
    "name": "ipython",
    "version": 3
   },
   "file_extension": ".py",
   "mimetype": "text/x-python",
   "name": "python",
   "nbconvert_exporter": "python",
   "pygments_lexer": "ipython3",
   "version": "3.8.5"
  }
 },
 "nbformat": 4,
 "nbformat_minor": 4
}
