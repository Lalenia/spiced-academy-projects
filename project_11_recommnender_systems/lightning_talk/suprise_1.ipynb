{
 "cells": [
  {
   "cell_type": "code",
   "execution_count": 1,
   "metadata": {},
   "outputs": [],
   "source": [
    "import pandas as pd\n",
    "import numpy as np\n",
    "import matplotlib.pyplot as plt\n",
    "import seaborn as sns\n",
    "\n",
    "\n",
    "from collections import defaultdict #data colector\n",
    "\n",
    "#Surprise: https://surprise.readthedocs.io/en/stable/\n",
    "import surprise\n",
    "\n",
    "from surprise.reader import Reader\n",
    "from surprise import Dataset\n",
    "from surprise.model_selection import GridSearchCV\n",
    "\n",
    "  ##CrossValidation\n",
    "from surprise.model_selection import cross_validate\n",
    "\n",
    "\n",
    "  ##Matrix Factorization Algorithms\n",
    "from surprise import SVD\n",
    "from surprise import NMF\n",
    "\n",
    "np.random.seed(42) # replicating results"
   ]
  },
  {
   "cell_type": "code",
   "execution_count": 2,
   "metadata": {},
   "outputs": [],
   "source": [
    "ratings = pd.read_csv('/Users/test1/Desktop/week_11/data/ratings.csv')\n",
    "movies = pd.read_csv('/Users/test1/Desktop/week_11/data/movies.csv')"
   ]
  },
  {
   "cell_type": "markdown",
   "metadata": {},
   "source": [
    "## Data Pre-Processing\n",
    "#### Filtering Data Set\n",
    "\n",
    "Firstly, it is essential to filter out movies and users with low exposure to remove some of the noise from outliers. According to the official MovieLens documentation, all selected users have rated at least 20 movies in the data set. However, the following code filters out the movies and users based on an arbitrary threshold and creates a new data frame ratings_flrd_df. Moreover, the chunk also prints the value of deleted movies with new and old dimensions.\n",
    "\n"
   ]
  },
  {
   "cell_type": "code",
   "execution_count": 3,
   "metadata": {},
   "outputs": [
    {
     "data": {
      "text/plain": [
       "'3446 movies deleted; all movies are now rated at least: 2 times. Old dimensions: (100836, 4); New dimensions: (97390, 4)'"
      ]
     },
     "execution_count": 3,
     "metadata": {},
     "output_type": "execute_result"
    }
   ],
   "source": [
    "min_movie_ratings = 2 #a movie has was rated at least \n",
    "min_user_ratings =  5 #a user rated movies at least\n",
    "\n",
    "\n",
    "ratings_flrd_df = ratings.groupby(\"movieId\").filter(lambda x: x['movieId'].count() >= min_movie_ratings)\n",
    "ratings_flrd_df = ratings_flrd_df.groupby(\"userId\").filter(lambda x: x['userId'].count() >= min_user_ratings)\n",
    "\n",
    "\n",
    "\n",
    "\"{0} movies deleted; all movies are now rated at least: {1} times. Old dimensions: {2}; New dimensions: {3}\"\\\n",
    ".format(len(ratings.movieId.value_counts()) - len(ratings_flrd_df.movieId.value_counts())\\\n",
    "        ,min_movie_ratings,ratings.shape, ratings_flrd_df.shape )\n"
   ]
  },
  {
   "cell_type": "markdown",
   "metadata": {},
   "source": [
    "## Data Loading\n",
    "\n",
    "While using Surprise, one can use a bunch of built-in datasets (e.g. Jeseter or even the movielens) parsed by Dataset module."
   ]
  },
  {
   "cell_type": "code",
   "execution_count": 4,
   "metadata": {},
   "outputs": [],
   "source": [
    "reader = Reader(rating_scale=(0.5, 5)) #line_format by default order of the fields\n",
    "data = Dataset.load_from_df(ratings_flrd_df[[\"userId\",\"movieId\",\"rating\"]], reader=reader)\n",
    "\n",
    "trainset = data.build_full_trainset()\n",
    "\n",
    "testset = trainset.build_anti_testset()"
   ]
  },
  {
   "cell_type": "markdown",
   "metadata": {},
   "source": [
    "## Singular Value Decomposition (SVD)\n",
    "\n",
    "SVD decomposes any matrix into singular vectors and singular values. I"
   ]
  },
  {
   "cell_type": "markdown",
   "metadata": {},
   "source": [
    "### Number of Factors and RMSE\n",
    "\n"
   ]
  },
  {
   "cell_type": "code",
   "execution_count": 5,
   "metadata": {},
   "outputs": [],
   "source": [
    "def rmse_vs_factors(algorithm, data):\n",
    "  \"\"\"Returns: rmse_algorithm i.e. a list of mean RMSE of CV = 5 in cross_validate() for each  factor k in range(1, 101, 1)\n",
    "  100 values \n",
    "  Arg:  i.) algorithm = Matrix factoization algorithm, e.g SVD/NMF/PMF, ii.)  data = surprise.dataset.DatasetAutoFolds\n",
    "  \"\"\"\n",
    "  \n",
    "  rmse_algorithm = []\n",
    "  \n",
    "  for k in range(1, 101, 1):\n",
    "    algo = algorithm(n_factors = k)\n",
    "    \n",
    "    #[\"test_rmse\"] is a numpy array with min accuracy value for each testset\n",
    "    loss_fce = cross_validate(algo, data, measures=['RMSE'], cv=5, verbose=False)[\"test_rmse\"].mean() \n",
    "    rmse_algorithm.append(loss_fce)\n",
    "  \n",
    "  return rmse_algorithm\n",
    "\n",
    "#0.0015829191458780407"
   ]
  },
  {
   "cell_type": "code",
   "execution_count": 6,
   "metadata": {},
   "outputs": [
    {
     "data": {
      "text/plain": [
       "[0.8640701175512149,\n",
       " 0.8638769168745929,\n",
       " 0.8637510800022202,\n",
       " 0.8647810806707433,\n",
       " 0.8630269836485123,\n",
       " 0.8645231696291852,\n",
       " 0.8637202865052265,\n",
       " 0.8653130504980988,\n",
       " 0.8651309812188954,\n",
       " 0.8639277704232035,\n",
       " 0.8643845731386314,\n",
       " 0.8642636198723611,\n",
       " 0.8636404957627614,\n",
       " 0.8635472186317541,\n",
       " 0.8630540896887444,\n",
       " 0.8646289674927801,\n",
       " 0.8644148449973146,\n",
       " 0.8647752962643429,\n",
       " 0.863489924117179,\n",
       " 0.863763619597148,\n",
       " 0.8643895617697609,\n",
       " 0.8641200537928475,\n",
       " 0.8646901769902537,\n",
       " 0.8645757957332838,\n",
       " 0.8645621484022519,\n",
       " 0.8643118397484937,\n",
       " 0.8639517832384407,\n",
       " 0.8640837187371281,\n",
       " 0.8648788040001444,\n",
       " 0.8638063897068632,\n",
       " 0.8643820853322743,\n",
       " 0.8645563355224608,\n",
       " 0.8651725056535128,\n",
       " 0.8643567704716653,\n",
       " 0.8656419522972746,\n",
       " 0.8649302076143298,\n",
       " 0.8650170850424029,\n",
       " 0.8645597711881864,\n",
       " 0.8651011379056058,\n",
       " 0.8647809429792133,\n",
       " 0.8661189481648073,\n",
       " 0.8661791376317639,\n",
       " 0.8643815017493012,\n",
       " 0.8659318947507512,\n",
       " 0.8647480138846344,\n",
       " 0.8650681506913702,\n",
       " 0.8656506614550313,\n",
       " 0.8671811414913503,\n",
       " 0.8649275326436274,\n",
       " 0.8653892480907641,\n",
       " 0.8659947430690075,\n",
       " 0.8657821886109553,\n",
       " 0.8656940431350154,\n",
       " 0.8661001767642794,\n",
       " 0.8653297479176649,\n",
       " 0.866604727773154,\n",
       " 0.8665283804727393,\n",
       " 0.8665915831159445,\n",
       " 0.8659327377047557,\n",
       " 0.8665539602291151,\n",
       " 0.8666357195464511,\n",
       " 0.8673224716233283,\n",
       " 0.867036524441761,\n",
       " 0.8660014404420344,\n",
       " 0.8667166574098978,\n",
       " 0.8659754499720138,\n",
       " 0.8674286308406585,\n",
       " 0.8675490242058274,\n",
       " 0.866633608542902,\n",
       " 0.8664741597754334,\n",
       " 0.8664317605017235,\n",
       " 0.8673299208700309,\n",
       " 0.8671319233322382,\n",
       " 0.8671429237325567,\n",
       " 0.8664256053126766,\n",
       " 0.8679146766340861,\n",
       " 0.8677858958340812,\n",
       " 0.867597655821787,\n",
       " 0.8686809637510067,\n",
       " 0.8679273780074167,\n",
       " 0.8664259739840302,\n",
       " 0.8679787189877921,\n",
       " 0.8665574263449825,\n",
       " 0.8676223830619524,\n",
       " 0.8681878149881633,\n",
       " 0.8682312682072592,\n",
       " 0.867325228557496,\n",
       " 0.8673038423874285,\n",
       " 0.8673592821589556,\n",
       " 0.8687979636935749,\n",
       " 0.8687294198724584,\n",
       " 0.8672159187083015,\n",
       " 0.8684596466846152,\n",
       " 0.8676192448622961,\n",
       " 0.8667502913506082,\n",
       " 0.8694681891285112,\n",
       " 0.8679087028033148,\n",
       " 0.8692892067985749,\n",
       " 0.8683058318549207,\n",
       " 0.8681572516418438]"
      ]
     },
     "execution_count": 6,
     "metadata": {},
     "output_type": "execute_result"
    }
   ],
   "source": [
    "rmse_svd = rmse_vs_factors(SVD,data)\n",
    "rmse_svd"
   ]
  },
  {
   "cell_type": "markdown",
   "metadata": {},
   "source": [
    "###### Plot of performance for each subsequent model. The function returns a plot with two line subplots that display performance vs. numbers of factors. The second subplot only zooms in and marks k with the best performance, i.e. the minimum RMSE."
   ]
  },
  {
   "cell_type": "code",
   "execution_count": 7,
   "metadata": {},
   "outputs": [
    {
     "data": {
      "image/png": "[encoded data removed]",
      "text/plain": [
       "<Figure size 880x400 with 2 Axes>"
      ]
     },
     "metadata": {},
     "output_type": "display_data"
    }
   ],
   "source": [
    "def plot_rmse(rmse, algorithm):\n",
    "  \"\"\"Returns: sub plots (2x1) of rmse against number of factors. \n",
    "     Vertical line in the second subplot identifies the arg for minimum RMSE\n",
    "    \n",
    "     Arg: i.) rmse = list of mean RMSE returned by rmse_vs_factors(), ii.) algorithm = STRING! of algo \n",
    "  \"\"\"\n",
    "  \n",
    "  plt.figure(num=None, figsize=(11, 5), dpi=80, facecolor='w', edgecolor='k')\n",
    "\n",
    "  plt.subplot(2,1,1)\n",
    "  plt.plot(rmse)\n",
    "  plt.xlim(0,100)\n",
    "  plt.title(\"{0} Performance: RMSE Against Number of Factors\".format(algorithm), size = 20 )\n",
    "  plt.ylabel(\"Mean RMSE (cv=5)\")\n",
    "\n",
    "  plt.subplot(2,1,2)\n",
    "  plt.plot(rmse)\n",
    "  plt.xlim(0,50)\n",
    "  plt.xticks(np.arange(0, 52, step=2))\n",
    "\n",
    "  plt.xlabel(\"{0}(n_factor = k)\".format(algorithm))\n",
    "  plt.ylabel(\"Mean RMSE (cv=5)\")\n",
    "  plt.axvline(np.argmin(rmse), color = \"r\")\n",
    "\n",
    "plot_rmse(rmse_svd,\"SVD\")\n"
   ]
  },
  {
   "cell_type": "markdown",
   "metadata": {},
   "source": [
    "###### According to the figure, there is an increasing trend of worse performance with higher k. The lowest RMSE is achieved when k=4. "
   ]
  },
  {
   "cell_type": "code",
   "execution_count": 8,
   "metadata": {},
   "outputs": [
    {
     "name": "stdout",
     "output_type": "stream",
     "text": [
      "0.8633595626314179\n",
      "{'n_factors': 18}\n"
     ]
    }
   ],
   "source": [
    "param_grid = {'n_factors': [4,6,9,11,14,18,29]}\n",
    "gs = GridSearchCV(SVD, param_grid, measures=['rmse'], cv=5)\n",
    "gs.fit(data)\n",
    "\n",
    "\n",
    "# best RMSE score\n",
    "print(gs.best_score['rmse'])\n",
    "\n",
    "# combination of parameters that gave the best RMSE score\n",
    "print(gs.best_params['rmse'])"
   ]
  },
  {
   "cell_type": "markdown",
   "metadata": {},
   "source": [
    "To make the model generalizable, i.e. avoid over and underfitting, the grid algorithm finds n_factors = 11 optimal."
   ]
  },
  {
   "cell_type": "markdown",
   "metadata": {},
   "source": [
    "## Training SVD Algorithm and Predictions\n",
    "\n",
    "Next, SVD(n_factors = 11) fits the model on trainset."
   ]
  },
  {
   "cell_type": "code",
   "execution_count": 9,
   "metadata": {},
   "outputs": [
    {
     "data": {
      "text/plain": [
       "[Prediction(uid=1, iid=318, r_ui=3.5110432282575212, est=5, details={'was_impossible': False}),\n",
       " Prediction(uid=1, iid=1704, r_ui=3.5110432282575212, est=4.881429569312792, details={'was_impossible': False})]"
      ]
     },
     "execution_count": 9,
     "metadata": {},
     "output_type": "execute_result"
    }
   ],
   "source": [
    "algo_SVD = SVD(n_factors = 11)\n",
    "algo_SVD.fit(trainset)\n",
    "\n",
    "\n",
    "# Predict ratings for all pairs (i,j) that are NOT in the training set.\n",
    "testset = trainset.build_anti_testset()\n",
    "\n",
    "predictions = algo_SVD.test(testset)\n",
    "\n",
    "# subset of the list  predictions\n",
    "predictions[0:2]\n",
    "\n",
    "#[Prediction(uid=1, iid=318, r_ui=3.5110432282575212, est=5, details={'was_impossible': False}),\n",
    "# Prediction(uid=1, iid=1704, r_ui=3.5110432282575212, est=4.953822490465707, details={'was_impossible': False})]"
   ]
  },
  {
   "cell_type": "code",
   "execution_count": 10,
   "metadata": {},
   "outputs": [],
   "source": [
    "def get_top_n(predictions, userId, movies_df, ratings_df, n = 10):\n",
    "    '''Return the top N (default) movieId for a user,.i.e. userID and history for comparisom\n",
    "    Args:\n",
    "    Returns: \n",
    "  \n",
    "    '''\n",
    "    #Peart I.: Surprise docomuntation\n",
    "    \n",
    "    #1. First map the predictions to each user.\n",
    "    top_n = defaultdict(list)\n",
    "    for uid, iid, true_r, est, _ in predictions:\n",
    "        top_n[uid].append((iid, est))\n",
    "\n",
    "    #2. Then sort the predictions for each user and retrieve the k highest ones.\n",
    "    for uid, user_ratings in top_n.items():\n",
    "        user_ratings.sort(key = lambda x: x[1], reverse = True)\n",
    "        top_n[uid] = user_ratings[: n ]\n",
    "    \n",
    "    #Part II.: inspired by: https://beckernick.github.io/matrix-factorization-recommender/\n",
    "    \n",
    "    #3. Tells how many movies the user has already rated\n",
    "    user_data = ratings_df[ratings_df.userId == (userId)]\n",
    "    print('User {0} has already rated {1} movies.'.format(userId, user_data.shape[0]))\n",
    "\n",
    "    \n",
    "    #4. Data Frame with predictions. \n",
    "    preds_df = pd.DataFrame([(id, pair[0],pair[1]) for id, row in top_n.items() for pair in row],\n",
    "                        columns=[\"userId\" ,\"movieId\",\"rat_pred\"])\n",
    "    \n",
    "    \n",
    "    #5. Return pred_usr, i.e. top N recommended movies with (merged) titles and genres. \n",
    "    pred_usr = preds_df[preds_df[\"userId\"] == (userId)].merge(movies_df, how = 'left', left_on = 'movieId', right_on = 'movieId')\n",
    "            \n",
    "    #6. Return hist_usr, i.e. top N historically rated movies with (merged) titles and genres for holistic evaluation\n",
    "    hist_usr = ratings_df[ratings_df.userId == (userId) ].sort_values(\"rating\", ascending = False).merge\\\n",
    "    (movies_df, how = 'left', left_on = 'movieId', right_on = 'movieId')\n",
    "    \n",
    "    \n",
    "    return hist_usr, pred_usr"
   ]
  },
  {
   "cell_type": "code",
   "execution_count": 1,
   "metadata": {},
   "outputs": [],
   "source": [
    "hist_SVD_124, pred_SVD_124 = get_top_n(predictions, movies_df = movies_df, userId = 124, ratings_df = ratings_df)"
   ]
  },
  {
   "cell_type": "code",
   "execution_count": null,
   "metadata": {},
   "outputs": [],
   "source": [
    "hist_SVD_124.head(15)"
   ]
  },
  {
   "cell_type": "markdown",
   "metadata": {},
   "source": [
    "When it comes to predictions, the outcome is stored in the same order and format as the user's history."
   ]
  },
  {
   "cell_type": "code",
   "execution_count": null,
   "metadata": {},
   "outputs": [],
   "source": [
    "pred_SVD_124"
   ]
  },
  {
   "cell_type": "markdown",
   "metadata": {},
   "source": [
    "Comparing the predictions with history, one can observe that the genres are in line with the user's taste."
   ]
  },
  {
   "cell_type": "markdown",
   "metadata": {},
   "source": [
    "## Non-Negative Matrix Factorization (NMF)\n"
   ]
  },
  {
   "cell_type": "code",
   "execution_count": null,
   "metadata": {},
   "outputs": [],
   "source": [
    "rmse_nmf = rmse_vs_factors(NMF, data)"
   ]
  },
  {
   "cell_type": "code",
   "execution_count": null,
   "metadata": {},
   "outputs": [],
   "source": [
    "plot_rmse(rmse_nmf, \"NMF\")"
   ]
  },
  {
   "cell_type": "code",
   "execution_count": null,
   "metadata": {},
   "outputs": [],
   "source": [
    "param_grid = {'n_factors': [11,14,15,16,17,18,20]}\n",
    "gs = GridSearchCV(NMF, param_grid, measures=['rmse'], cv=5)\n",
    "gs.fit(data)\n",
    "\n",
    "# best RMSE score\n",
    "print(gs.best_score['rmse'])\n",
    "\n",
    "# combination of parameters that gave the best RMSE score\n",
    "print(gs.best_params['rmse'])"
   ]
  },
  {
   "cell_type": "code",
   "execution_count": null,
   "metadata": {},
   "outputs": [],
   "source": [
    "0.8861525979842921\n",
    "{'n_factors': 17}"
   ]
  },
  {
   "cell_type": "code",
   "execution_count": null,
   "metadata": {},
   "outputs": [],
   "source": [
    "algo_NMF = NMF(n_factors = 16)\n",
    "algo_NMF.fit(trainset)\n",
    "\n",
    "# Predict ratings for all pairs (u, i) that are NOT in the training set.\n",
    "testset = trainset.build_anti_testset()\n",
    "predictions = algo_NMF.test(testset)"
   ]
  },
  {
   "cell_type": "code",
   "execution_count": null,
   "metadata": {},
   "outputs": [],
   "source": [
    "hist_NMF_124, pred_NMF_124 = get_top_n(predictions, movies_df = movies_df, userId = 124, original_ratings_df = ratings_df)"
   ]
  },
  {
   "cell_type": "code",
   "execution_count": null,
   "metadata": {},
   "outputs": [],
   "source": [
    "Result: \n",
    "User 124 has already rated 50 movies."
   ]
  },
  {
   "cell_type": "code",
   "execution_count": null,
   "metadata": {},
   "outputs": [],
   "source": [
    "pred_NMF_124"
   ]
  }
 ],
 "metadata": {
  "kernelspec": {
   "display_name": "Python 3",
   "language": "python",
   "name": "python3"
  },
  "language_info": {
   "codemirror_mode": {
    "name": "ipython",
    "version": 3
   },
   "file_extension": ".py",
   "mimetype": "text/x-python",
   "name": "python",
   "nbconvert_exporter": "python",
   "pygments_lexer": "ipython3",
   "version": "3.8.5"
  }
 },
 "nbformat": 4,
 "nbformat_minor": 4
}
