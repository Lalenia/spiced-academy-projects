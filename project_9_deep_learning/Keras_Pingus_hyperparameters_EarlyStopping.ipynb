{
 "cells": [
  {
   "cell_type": "code",
   "execution_count": 122,
   "metadata": {},
   "outputs": [],
   "source": [
    "import pandas as pd\n",
    "import matplotlib.pyplot as plt\n",
    "import seaborn as sns\n",
    "\n",
    "import tensorflow as tf\n",
    "from tensorflow.keras import backend as K\n",
    "from tensorflow.keras.layers import Dense\n",
    "from tensorflow.keras.models import Sequential\n",
    "\n",
    "from sklearn.pipeline import make_pipeline\n",
    "from sklearn.compose import ColumnTransformer\n",
    "from sklearn.preprocessing import MinMaxScaler\n",
    "from sklearn.impute import SimpleImputer\n",
    "from sklearn.preprocessing import KBinsDiscretizer\n",
    "from sklearn.preprocessing import StandardScaler\n",
    "\n",
    "plt.rcParams['figure.figsize'] = (12,6)"
   ]
  },
  {
   "cell_type": "code",
   "execution_count": 123,
   "metadata": {},
   "outputs": [],
   "source": [
    "df = pd.read_csv('penguins_simple.csv', sep=';')"
   ]
  },
  {
   "cell_type": "code",
   "execution_count": 124,
   "metadata": {},
   "outputs": [
    {
     "data": {
      "text/plain": [
       "Culmen Length (mm)     0\n",
       "Culmen Depth (mm)      0\n",
       "Flipper Length (mm)    0\n",
       "Body Mass (g)          0\n",
       "dtype: int64"
      ]
     },
     "execution_count": 124,
     "metadata": {},
     "output_type": "execute_result"
    }
   ],
   "source": [
    "X = df.iloc[:, 1:5] / 100\n",
    "y = pd.get_dummies(df['Species'])\n",
    "\n",
    "X.isnull().sum()"
   ]
  },
  {
   "cell_type": "code",
   "execution_count": 125,
   "metadata": {},
   "outputs": [
    {
     "data": {
      "text/plain": [
       "Index(['Culmen Length (mm)', 'Culmen Depth (mm)', 'Flipper Length (mm)',\n",
       "       'Body Mass (g)'],\n",
       "      dtype='object')"
      ]
     },
     "execution_count": 125,
     "metadata": {},
     "output_type": "execute_result"
    }
   ],
   "source": [
    "X.columns"
   ]
  },
  {
   "cell_type": "code",
   "execution_count": 126,
   "metadata": {},
   "outputs": [
    {
     "data": {
      "text/plain": [
       "(333, 4)"
      ]
     },
     "execution_count": 126,
     "metadata": {},
     "output_type": "execute_result"
    }
   ],
   "source": [
    "X.shape"
   ]
  },
  {
   "cell_type": "code",
   "execution_count": 127,
   "metadata": {},
   "outputs": [
    {
     "data": {
      "text/plain": [
       "array([[ 0.25454545,  0.66666667,  0.15254237, ...,  0.7807321 ,\n",
       "        -1.42675157, -0.56847478],\n",
       "       [ 0.26909091,  0.51190476,  0.23728814, ...,  0.11958397,\n",
       "        -1.06947358, -0.50628618],\n",
       "       [ 0.29818182,  0.58333333,  0.38983051, ...,  0.42472926,\n",
       "        -0.42637319, -1.1903608 ],\n",
       "       ...,\n",
       "       [ 0.66545455,  0.30952381,  0.84745763, ..., -0.74499437,\n",
       "         1.50292796,  1.91906927],\n",
       "       [ 0.47636364,  0.20238095,  0.6779661 , ..., -1.20271231,\n",
       "         0.78837197,  1.23499466],\n",
       "       [ 0.64727273,  0.35714286,  0.69491525, ..., -0.54156417,\n",
       "         0.85982757,  1.48374906]])"
      ]
     },
     "execution_count": 127,
     "metadata": {},
     "output_type": "execute_result"
    }
   ],
   "source": [
    "trans = ColumnTransformer([\n",
    "    ('categorial_imputer', MinMaxScaler(), ['Culmen Length (mm)', 'Culmen Depth (mm)', 'Flipper Length (mm)',\n",
    "       'Body Mass (g)']),\n",
    "    ('numeric_imputer', StandardScaler(), ['Culmen Length (mm)', 'Culmen Depth (mm)', 'Flipper Length (mm)',\n",
    "       'Body Mass (g)'])\n",
    "])\n",
    "\n",
    "trans.fit(X)                    \n",
    "X_t = trans.transform(X) \n",
    "X_t"
   ]
  },
  {
   "cell_type": "code",
   "execution_count": 130,
   "metadata": {},
   "outputs": [],
   "source": [
    "# MNIST: (60000, 28, 28) reshape to (60000, 784)"
   ]
  },
  {
   "cell_type": "code",
   "execution_count": 131,
   "metadata": {},
   "outputs": [
    {
     "data": {
      "text/plain": [
       "((333, 8), (333, 3))"
      ]
     },
     "execution_count": 131,
     "metadata": {},
     "output_type": "execute_result"
    }
   ],
   "source": [
    "X_t.shape, y.shape"
   ]
  },
  {
   "cell_type": "code",
   "execution_count": 132,
   "metadata": {},
   "outputs": [],
   "source": [
    "K.clear_session() # reset your model parameters and everything\n",
    "\n",
    "model = Sequential([\n",
    "    \n",
    "    Dense(10, activation='relu', input_shape=(8,)),   # hidden\n",
    "    Dense(3, activation='softmax') # 3 neurons for 3 categories, softmax for multiclass(multilabel) classification\n",
    "])\n",
    "# TODO: try adding a Dropout layer (regularization)\n",
    "# TODO: try adding a BatchNormalization layer (regularization + speedup)"
   ]
  },
  {
   "cell_type": "code",
   "execution_count": 133,
   "metadata": {},
   "outputs": [],
   "source": [
    "model.compile(optimizer='adam', loss='categorical_crossentropy', metrics=['acc'])\n",
    "# TODO: check how sparse_categorical_crossentropy differs\n",
    "# TODO: try EarlyStopping (see course material)"
   ]
  },
  {
   "cell_type": "code",
   "execution_count": 134,
   "metadata": {},
   "outputs": [
    {
     "name": "stdout",
     "output_type": "stream",
     "text": [
      "Model: \"sequential\"\n",
      "_________________________________________________________________\n",
      "Layer (type)                 Output Shape              Param #   \n",
      "=================================================================\n",
      "dense (Dense)                (None, 10)                90        \n",
      "_________________________________________________________________\n",
      "dense_1 (Dense)              (None, 3)                 33        \n",
      "=================================================================\n",
      "Total params: 123\n",
      "Trainable params: 123\n",
      "Non-trainable params: 0\n",
      "_________________________________________________________________\n"
     ]
    }
   ],
   "source": [
    "model.summary()"
   ]
  },
  {
   "cell_type": "code",
   "execution_count": 135,
   "metadata": {},
   "outputs": [],
   "source": [
    "callback = tf.keras.callbacks.EarlyStopping(monitor='loss', patience=3)"
   ]
  },
  {
   "cell_type": "markdown",
   "metadata": {},
   "source": [
    "#### Observations: \n",
    "\n",
    "\n",
    "    After trying other values, than the ones given at the course material, for the model's hyperparameters (batch_size to 50, epochs to 10 and learning rate to 0.2) the model seemed to perform better\n",
    "    \n",
    "    I also used EarlylStopping. A small explanazion about the parameters:\n",
    "        Monitor can take other values depending what you want to do. There is also for ex.\n",
    "        val_loss, which when used can take when more parameter the mode, that can take values of min, max or autO, so as to minimise loss or maximize accuracy.\n",
    "        Patience is for the number of epochs. For example 3 here, means that aftes the model starts\n",
    "        performing badly, how many epochs after it will stop.  This callback will stop the training when there is no improvement in  the loss for three consecutive epochs. This can be tricky though, since at this point where it  \n",
    "        a fault and after these it could start performing good again.\n",
    "        After trying other values, than the ones given at the course material, for the model's hyperparameters (batch_size to 50, epochs to 10 and learning rate to 0.2) the model seemed to perform better."
   ]
  },
  {
   "cell_type": "code",
   "execution_count": 136,
   "metadata": {},
   "outputs": [
    {
     "name": "stdout",
     "output_type": "stream",
     "text": [
      "Epoch 1/100\n",
      "8/8 [==============================] - 1s 30ms/step - loss: 1.0559 - acc: 0.5361 - val_loss: 1.6105 - val_acc: 0.0000e+00\n",
      "Epoch 2/100\n",
      "8/8 [==============================] - 0s 8ms/step - loss: 1.0042 - acc: 0.5654 - val_loss: 1.5669 - val_acc: 0.0000e+00\n",
      "Epoch 3/100\n",
      "8/8 [==============================] - 0s 7ms/step - loss: 0.9526 - acc: 0.6154 - val_loss: 1.5228 - val_acc: 0.0000e+00\n",
      "Epoch 4/100\n",
      "8/8 [==============================] - 0s 7ms/step - loss: 0.9233 - acc: 0.6232 - val_loss: 1.4750 - val_acc: 0.0000e+00\n",
      "Epoch 5/100\n",
      "8/8 [==============================] - 0s 7ms/step - loss: 0.8998 - acc: 0.6047 - val_loss: 1.4255 - val_acc: 0.0000e+00\n",
      "Epoch 6/100\n",
      "8/8 [==============================] - 0s 7ms/step - loss: 0.8511 - acc: 0.6180 - val_loss: 1.3879 - val_acc: 0.0000e+00\n",
      "Epoch 7/100\n",
      "8/8 [==============================] - 0s 7ms/step - loss: 0.8192 - acc: 0.6364 - val_loss: 1.3469 - val_acc: 0.0000e+00\n",
      "Epoch 8/100\n",
      "8/8 [==============================] - 0s 7ms/step - loss: 0.7979 - acc: 0.6352 - val_loss: 1.2996 - val_acc: 0.0000e+00\n",
      "Epoch 9/100\n",
      "8/8 [==============================] - 0s 7ms/step - loss: 0.7689 - acc: 0.6325 - val_loss: 1.2644 - val_acc: 0.0000e+00\n",
      "Epoch 10/100\n",
      "8/8 [==============================] - 0s 7ms/step - loss: 0.7258 - acc: 0.6595 - val_loss: 1.2187 - val_acc: 0.0000e+00\n",
      "Epoch 11/100\n",
      "8/8 [==============================] - 0s 7ms/step - loss: 0.7243 - acc: 0.6354 - val_loss: 1.1720 - val_acc: 0.0600\n",
      "Epoch 12/100\n",
      "8/8 [==============================] - 0s 8ms/step - loss: 0.6815 - acc: 0.7053 - val_loss: 1.1326 - val_acc: 0.1400\n",
      "Epoch 13/100\n",
      "8/8 [==============================] - 0s 7ms/step - loss: 0.6506 - acc: 0.7318 - val_loss: 1.0997 - val_acc: 0.3300\n",
      "Epoch 14/100\n",
      "8/8 [==============================] - 0s 7ms/step - loss: 0.6328 - acc: 0.7599 - val_loss: 1.0642 - val_acc: 0.5800\n",
      "Epoch 15/100\n",
      "8/8 [==============================] - 0s 7ms/step - loss: 0.6106 - acc: 0.7863 - val_loss: 1.0290 - val_acc: 0.7600\n",
      "Epoch 16/100\n",
      "8/8 [==============================] - 0s 7ms/step - loss: 0.6013 - acc: 0.8394 - val_loss: 0.9885 - val_acc: 0.8200\n",
      "Epoch 17/100\n",
      "8/8 [==============================] - 0s 7ms/step - loss: 0.5666 - acc: 0.8764 - val_loss: 0.9540 - val_acc: 0.8700\n",
      "Epoch 18/100\n",
      "8/8 [==============================] - 0s 7ms/step - loss: 0.5536 - acc: 0.8714 - val_loss: 0.9192 - val_acc: 0.8900\n",
      "Epoch 19/100\n",
      "8/8 [==============================] - 0s 7ms/step - loss: 0.5312 - acc: 0.8766 - val_loss: 0.8904 - val_acc: 0.9100\n",
      "Epoch 20/100\n",
      "8/8 [==============================] - 0s 7ms/step - loss: 0.5117 - acc: 0.8868 - val_loss: 0.8544 - val_acc: 0.9400\n",
      "Epoch 21/100\n",
      "8/8 [==============================] - 0s 8ms/step - loss: 0.4963 - acc: 0.8950 - val_loss: 0.8091 - val_acc: 0.9600\n",
      "Epoch 22/100\n",
      "8/8 [==============================] - 0s 7ms/step - loss: 0.4730 - acc: 0.9234 - val_loss: 0.7738 - val_acc: 0.9900\n",
      "Epoch 23/100\n",
      "8/8 [==============================] - 0s 7ms/step - loss: 0.4587 - acc: 0.9173 - val_loss: 0.7442 - val_acc: 0.9900\n",
      "Epoch 24/100\n",
      "8/8 [==============================] - 0s 7ms/step - loss: 0.4510 - acc: 0.9457 - val_loss: 0.7147 - val_acc: 0.9900\n",
      "Epoch 25/100\n",
      "8/8 [==============================] - 0s 7ms/step - loss: 0.4360 - acc: 0.9450 - val_loss: 0.6875 - val_acc: 0.9900\n",
      "Epoch 26/100\n",
      "8/8 [==============================] - 0s 7ms/step - loss: 0.4119 - acc: 0.9555 - val_loss: 0.6602 - val_acc: 0.9900\n",
      "Epoch 27/100\n",
      "8/8 [==============================] - 0s 7ms/step - loss: 0.3928 - acc: 0.9460 - val_loss: 0.6307 - val_acc: 1.0000\n",
      "Epoch 28/100\n",
      "8/8 [==============================] - 0s 7ms/step - loss: 0.3845 - acc: 0.9559 - val_loss: 0.5996 - val_acc: 1.0000\n",
      "Epoch 29/100\n",
      "8/8 [==============================] - 0s 7ms/step - loss: 0.3460 - acc: 0.9685 - val_loss: 0.5702 - val_acc: 1.0000\n",
      "Epoch 30/100\n",
      "8/8 [==============================] - 0s 7ms/step - loss: 0.3362 - acc: 0.9653 - val_loss: 0.5438 - val_acc: 1.0000\n",
      "Epoch 31/100\n",
      "8/8 [==============================] - 0s 7ms/step - loss: 0.3402 - acc: 0.9477 - val_loss: 0.5198 - val_acc: 1.0000\n",
      "Epoch 32/100\n",
      "8/8 [==============================] - 0s 7ms/step - loss: 0.2991 - acc: 0.9751 - val_loss: 0.4958 - val_acc: 1.0000\n",
      "Epoch 33/100\n",
      "8/8 [==============================] - 0s 8ms/step - loss: 0.3057 - acc: 0.9618 - val_loss: 0.4751 - val_acc: 1.0000\n",
      "Epoch 34/100\n",
      "8/8 [==============================] - 0s 8ms/step - loss: 0.2988 - acc: 0.9615 - val_loss: 0.4509 - val_acc: 1.0000\n",
      "Epoch 35/100\n",
      "8/8 [==============================] - 0s 8ms/step - loss: 0.2916 - acc: 0.9606 - val_loss: 0.4291 - val_acc: 1.0000\n",
      "Epoch 36/100\n",
      "8/8 [==============================] - 0s 8ms/step - loss: 0.2621 - acc: 0.9850 - val_loss: 0.4080 - val_acc: 1.0000\n",
      "Epoch 37/100\n",
      "8/8 [==============================] - 0s 8ms/step - loss: 0.2758 - acc: 0.9527 - val_loss: 0.3880 - val_acc: 1.0000\n",
      "Epoch 38/100\n",
      "8/8 [==============================] - 0s 9ms/step - loss: 0.2580 - acc: 0.9756 - val_loss: 0.3697 - val_acc: 1.0000\n",
      "Epoch 39/100\n",
      "8/8 [==============================] - 0s 8ms/step - loss: 0.2634 - acc: 0.9621 - val_loss: 0.3539 - val_acc: 1.0000\n",
      "Epoch 40/100\n",
      "8/8 [==============================] - 0s 6ms/step - loss: 0.2472 - acc: 0.9627 - val_loss: 0.3380 - val_acc: 1.0000\n",
      "Epoch 41/100\n",
      "8/8 [==============================] - 0s 7ms/step - loss: 0.2450 - acc: 0.9658 - val_loss: 0.3200 - val_acc: 1.0000\n",
      "Epoch 42/100\n",
      "8/8 [==============================] - 0s 6ms/step - loss: 0.2288 - acc: 0.9759 - val_loss: 0.3053 - val_acc: 1.0000\n",
      "Epoch 43/100\n",
      "8/8 [==============================] - 0s 7ms/step - loss: 0.2211 - acc: 0.9767 - val_loss: 0.2908 - val_acc: 1.0000\n",
      "Epoch 44/100\n",
      "8/8 [==============================] - 0s 7ms/step - loss: 0.2071 - acc: 0.9763 - val_loss: 0.2780 - val_acc: 1.0000\n",
      "Epoch 45/100\n",
      "8/8 [==============================] - 0s 7ms/step - loss: 0.2062 - acc: 0.9638 - val_loss: 0.2661 - val_acc: 1.0000\n",
      "Epoch 46/100\n",
      "8/8 [==============================] - 0s 7ms/step - loss: 0.2035 - acc: 0.9723 - val_loss: 0.2534 - val_acc: 1.0000\n",
      "Epoch 47/100\n",
      "8/8 [==============================] - 0s 7ms/step - loss: 0.1867 - acc: 0.9772 - val_loss: 0.2417 - val_acc: 1.0000\n",
      "Epoch 48/100\n",
      "8/8 [==============================] - 0s 7ms/step - loss: 0.1783 - acc: 0.9808 - val_loss: 0.2323 - val_acc: 1.0000\n",
      "Epoch 49/100\n",
      "8/8 [==============================] - 0s 7ms/step - loss: 0.1872 - acc: 0.9765 - val_loss: 0.2229 - val_acc: 1.0000\n",
      "Epoch 50/100\n",
      "8/8 [==============================] - 0s 7ms/step - loss: 0.1774 - acc: 0.9744 - val_loss: 0.2142 - val_acc: 1.0000\n",
      "Epoch 51/100\n",
      "8/8 [==============================] - 0s 7ms/step - loss: 0.1766 - acc: 0.9767 - val_loss: 0.2051 - val_acc: 1.0000\n",
      "Epoch 52/100\n",
      "8/8 [==============================] - 0s 7ms/step - loss: 0.1699 - acc: 0.9739 - val_loss: 0.1969 - val_acc: 1.0000\n",
      "Epoch 53/100\n",
      "8/8 [==============================] - 0s 7ms/step - loss: 0.1595 - acc: 0.9849 - val_loss: 0.1869 - val_acc: 1.0000\n",
      "Epoch 54/100\n",
      "8/8 [==============================] - 0s 7ms/step - loss: 0.1705 - acc: 0.9691 - val_loss: 0.1795 - val_acc: 1.0000\n",
      "Epoch 55/100\n",
      "8/8 [==============================] - 0s 7ms/step - loss: 0.1577 - acc: 0.9746 - val_loss: 0.1714 - val_acc: 1.0000\n",
      "Epoch 56/100\n",
      "8/8 [==============================] - 0s 6ms/step - loss: 0.1402 - acc: 0.9849 - val_loss: 0.1644 - val_acc: 1.0000\n",
      "Epoch 57/100\n",
      "8/8 [==============================] - 0s 7ms/step - loss: 0.1634 - acc: 0.9650 - val_loss: 0.1580 - val_acc: 1.0000\n",
      "Epoch 58/100\n",
      "8/8 [==============================] - 0s 7ms/step - loss: 0.1525 - acc: 0.9717 - val_loss: 0.1509 - val_acc: 1.0000\n",
      "Epoch 59/100\n",
      "8/8 [==============================] - 0s 7ms/step - loss: 0.1610 - acc: 0.9482 - val_loss: 0.1441 - val_acc: 1.0000\n",
      "Epoch 60/100\n",
      "8/8 [==============================] - 0s 6ms/step - loss: 0.1440 - acc: 0.9705 - val_loss: 0.1374 - val_acc: 1.0000\n",
      "Epoch 61/100\n",
      "8/8 [==============================] - 0s 7ms/step - loss: 0.1170 - acc: 0.9823 - val_loss: 0.1318 - val_acc: 1.0000\n",
      "Epoch 62/100\n",
      "8/8 [==============================] - 0s 7ms/step - loss: 0.1313 - acc: 0.9817 - val_loss: 0.1276 - val_acc: 1.0000\n",
      "Epoch 63/100\n",
      "8/8 [==============================] - 0s 7ms/step - loss: 0.1323 - acc: 0.9746 - val_loss: 0.1234 - val_acc: 1.0000\n"
     ]
    },
    {
     "name": "stdout",
     "output_type": "stream",
     "text": [
      "Epoch 64/100\n",
      "8/8 [==============================] - 0s 7ms/step - loss: 0.1261 - acc: 0.9790 - val_loss: 0.1193 - val_acc: 1.0000\n",
      "Epoch 65/100\n",
      "8/8 [==============================] - 0s 6ms/step - loss: 0.1213 - acc: 0.9769 - val_loss: 0.1158 - val_acc: 1.0000\n",
      "Epoch 66/100\n",
      "8/8 [==============================] - 0s 7ms/step - loss: 0.1165 - acc: 0.9889 - val_loss: 0.1121 - val_acc: 1.0000\n",
      "Epoch 67/100\n",
      "8/8 [==============================] - 0s 7ms/step - loss: 0.1269 - acc: 0.9696 - val_loss: 0.1087 - val_acc: 1.0000\n",
      "Epoch 68/100\n",
      "8/8 [==============================] - 0s 6ms/step - loss: 0.1405 - acc: 0.9629 - val_loss: 0.1052 - val_acc: 1.0000\n",
      "Epoch 69/100\n",
      "8/8 [==============================] - 0s 7ms/step - loss: 0.1017 - acc: 0.9863 - val_loss: 0.1009 - val_acc: 1.0000\n",
      "Epoch 70/100\n",
      "8/8 [==============================] - 0s 7ms/step - loss: 0.1093 - acc: 0.9777 - val_loss: 0.0974 - val_acc: 1.0000\n",
      "Epoch 71/100\n",
      "8/8 [==============================] - 0s 7ms/step - loss: 0.1034 - acc: 0.9853 - val_loss: 0.0944 - val_acc: 1.0000\n",
      "Epoch 72/100\n",
      "8/8 [==============================] - 0s 7ms/step - loss: 0.1210 - acc: 0.9574 - val_loss: 0.0915 - val_acc: 1.0000\n",
      "Epoch 73/100\n",
      "8/8 [==============================] - 0s 7ms/step - loss: 0.0992 - acc: 0.9826 - val_loss: 0.0885 - val_acc: 1.0000\n",
      "Epoch 74/100\n",
      "8/8 [==============================] - 0s 6ms/step - loss: 0.1037 - acc: 0.9899 - val_loss: 0.0860 - val_acc: 1.0000\n",
      "Epoch 75/100\n",
      "8/8 [==============================] - 0s 7ms/step - loss: 0.1106 - acc: 0.9719 - val_loss: 0.0836 - val_acc: 1.0000\n",
      "Epoch 76/100\n",
      "8/8 [==============================] - 0s 7ms/step - loss: 0.0949 - acc: 0.9719 - val_loss: 0.0812 - val_acc: 1.0000\n",
      "Epoch 77/100\n",
      "8/8 [==============================] - 0s 7ms/step - loss: 0.1020 - acc: 0.9818 - val_loss: 0.0791 - val_acc: 1.0000\n",
      "Epoch 78/100\n",
      "8/8 [==============================] - 0s 6ms/step - loss: 0.0970 - acc: 0.9758 - val_loss: 0.0767 - val_acc: 1.0000\n",
      "Epoch 79/100\n",
      "8/8 [==============================] - 0s 7ms/step - loss: 0.0912 - acc: 0.9856 - val_loss: 0.0749 - val_acc: 1.0000\n",
      "Epoch 80/100\n",
      "8/8 [==============================] - 0s 7ms/step - loss: 0.0972 - acc: 0.9818 - val_loss: 0.0729 - val_acc: 1.0000\n",
      "Epoch 81/100\n",
      "8/8 [==============================] - 0s 6ms/step - loss: 0.0889 - acc: 0.9816 - val_loss: 0.0709 - val_acc: 1.0000\n",
      "Epoch 82/100\n",
      "8/8 [==============================] - 0s 6ms/step - loss: 0.1107 - acc: 0.9788 - val_loss: 0.0692 - val_acc: 1.0000\n",
      "Epoch 83/100\n",
      "8/8 [==============================] - 0s 7ms/step - loss: 0.0829 - acc: 0.9896 - val_loss: 0.0672 - val_acc: 1.0000\n",
      "Epoch 84/100\n",
      "8/8 [==============================] - 0s 6ms/step - loss: 0.0816 - acc: 0.9875 - val_loss: 0.0652 - val_acc: 1.0000\n",
      "Epoch 85/100\n",
      "8/8 [==============================] - 0s 7ms/step - loss: 0.1002 - acc: 0.9665 - val_loss: 0.0636 - val_acc: 1.0000\n",
      "Epoch 86/100\n",
      "8/8 [==============================] - 0s 7ms/step - loss: 0.0901 - acc: 0.9796 - val_loss: 0.0618 - val_acc: 1.0000\n",
      "Epoch 87/100\n",
      "8/8 [==============================] - 0s 7ms/step - loss: 0.0828 - acc: 0.9880 - val_loss: 0.0603 - val_acc: 1.0000\n",
      "Epoch 88/100\n",
      "8/8 [==============================] - 0s 6ms/step - loss: 0.0740 - acc: 0.9869 - val_loss: 0.0586 - val_acc: 1.0000\n",
      "Epoch 89/100\n",
      "8/8 [==============================] - 0s 7ms/step - loss: 0.0772 - acc: 0.9874 - val_loss: 0.0570 - val_acc: 1.0000\n",
      "Epoch 90/100\n",
      "8/8 [==============================] - 0s 6ms/step - loss: 0.0836 - acc: 0.9864 - val_loss: 0.0555 - val_acc: 1.0000\n",
      "Epoch 91/100\n",
      "8/8 [==============================] - 0s 7ms/step - loss: 0.0819 - acc: 0.9824 - val_loss: 0.0540 - val_acc: 1.0000\n",
      "Epoch 92/100\n",
      "8/8 [==============================] - 0s 7ms/step - loss: 0.0858 - acc: 0.9820 - val_loss: 0.0526 - val_acc: 1.0000\n",
      "Epoch 93/100\n",
      "8/8 [==============================] - 0s 7ms/step - loss: 0.0762 - acc: 0.9909 - val_loss: 0.0513 - val_acc: 1.0000\n",
      "Epoch 94/100\n",
      "8/8 [==============================] - 0s 6ms/step - loss: 0.0714 - acc: 0.9880 - val_loss: 0.0501 - val_acc: 1.0000\n",
      "Epoch 95/100\n",
      "8/8 [==============================] - 0s 7ms/step - loss: 0.0797 - acc: 0.9878 - val_loss: 0.0488 - val_acc: 1.0000\n",
      "Epoch 96/100\n",
      "8/8 [==============================] - 0s 7ms/step - loss: 0.0671 - acc: 0.9923 - val_loss: 0.0475 - val_acc: 1.0000\n",
      "Epoch 97/100\n",
      "8/8 [==============================] - 0s 7ms/step - loss: 0.0780 - acc: 0.9785 - val_loss: 0.0464 - val_acc: 1.0000\n",
      "Epoch 98/100\n",
      "8/8 [==============================] - 0s 6ms/step - loss: 0.0799 - acc: 0.9778 - val_loss: 0.0452 - val_acc: 1.0000\n",
      "Epoch 99/100\n",
      "8/8 [==============================] - 0s 7ms/step - loss: 0.0814 - acc: 0.9744 - val_loss: 0.0442 - val_acc: 1.0000\n",
      "Epoch 100/100\n",
      "8/8 [==============================] - 0s 6ms/step - loss: 0.0736 - acc: 0.9830 - val_loss: 0.0431 - val_acc: 1.0000\n"
     ]
    }
   ],
   "source": [
    "history = model.fit(X_t, y, batch_size=32, epochs=100, validation_split=0.3, callbacks=[callback])"
   ]
  },
  {
   "cell_type": "code",
   "execution_count": 137,
   "metadata": {},
   "outputs": [
    {
     "data": {
      "image/png": "[encoded data removed]",
      "text/plain": [
       "<Figure size 864x432 with 1 Axes>"
      ]
     },
     "metadata": {
      "needs_background": "light"
     },
     "output_type": "display_data"
    }
   ],
   "source": [
    "plt.plot(history.history['loss'], label='training_loss')\n",
    "plt.plot(history.history['val_loss'], label='validation_loss')\n",
    "plt.title('Training and Validation Loss')\n",
    "plt.xlabel('Epoch')\n",
    "plt.ylabel('Loss')\n",
    "plt.legend()\n",
    "plt.show()"
   ]
  },
  {
   "cell_type": "code",
   "execution_count": 138,
   "metadata": {},
   "outputs": [
    {
     "data": {
      "image/png": "[encoded data removed]",
      "text/plain": [
       "<Figure size 864x432 with 1 Axes>"
      ]
     },
     "metadata": {
      "needs_background": "light"
     },
     "output_type": "display_data"
    }
   ],
   "source": [
    "plt.plot(history.history['acc'], label='training_accuracy')\n",
    "plt.plot(history.history['val_acc'], label='validation_accuracy')\n",
    "plt.title('Training and Validation Accuracy')\n",
    "plt.xlabel('Epoch')\n",
    "plt.ylabel('Accuracy')\n",
    "plt.legend()\n",
    "plt.show()"
   ]
  },
  {
   "cell_type": "code",
   "execution_count": 139,
   "metadata": {},
   "outputs": [
    {
     "name": "stdout",
     "output_type": "stream",
     "text": [
      "11/11 [==============================] - 0s 873us/step - loss: 0.0636 - acc: 0.9880\n"
     ]
    },
    {
     "data": {
      "text/plain": [
       "[0.06360210478305817, 0.9879879951477051]"
      ]
     },
     "execution_count": 139,
     "metadata": {},
     "output_type": "execute_result"
    }
   ],
   "source": [
    "# Evaluate the model\n",
    "model.evaluate(X_t, y)"
   ]
  },
  {
   "cell_type": "code",
   "execution_count": 140,
   "metadata": {},
   "outputs": [
    {
     "data": {
      "text/plain": [
       "array([[9.87927258e-01, 1.06278295e-02, 1.44492916e-03],\n",
       "       [9.64352787e-01, 2.90716346e-02, 6.57562446e-03],\n",
       "       [8.92261863e-01, 1.04098290e-01, 3.63984820e-03],\n",
       "       [9.91425157e-01, 8.10498279e-03, 4.69766004e-04],\n",
       "       [9.92849708e-01, 6.85625384e-03, 2.93959311e-04],\n",
       "       [9.77452874e-01, 1.97388530e-02, 2.80829053e-03],\n",
       "       [9.86483514e-01, 1.00939237e-02, 3.42257624e-03],\n",
       "       [7.49139488e-01, 2.45544508e-01, 5.31595945e-03],\n",
       "       [9.94967282e-01, 4.83952882e-03, 1.93183529e-04],\n",
       "       [9.96921182e-01, 2.78704404e-03, 2.91806151e-04]], dtype=float32)"
      ]
     },
     "execution_count": 140,
     "metadata": {},
     "output_type": "execute_result"
    }
   ],
   "source": [
    "# Look at the first 10 predictions\n",
    "model.predict(X_t)[:10]"
   ]
  },
  {
   "cell_type": "code",
   "execution_count": 75,
   "metadata": {},
   "outputs": [
    {
     "name": "stdout",
     "output_type": "stream",
     "text": [
      "dict_keys(['loss', 'acc', 'val_loss', 'val_acc'])\n"
     ]
    }
   ],
   "source": [
    " print(h.history.keys())"
   ]
  },
  {
   "cell_type": "code",
   "execution_count": 78,
   "metadata": {},
   "outputs": [],
   "source": [
    "keys = h.history.keys()"
   ]
  },
  {
   "cell_type": "code",
   "execution_count": 79,
   "metadata": {},
   "outputs": [
    {
     "name": "stdout",
     "output_type": "stream",
     "text": [
      "loss\n",
      "acc\n",
      "val_loss\n",
      "val_acc\n"
     ]
    }
   ],
   "source": [
    "for key in keys:\n",
    "    print (key)"
   ]
  },
  {
   "cell_type": "markdown",
   "metadata": {},
   "source": [
    "<b> WEIGHTS </b>"
   ]
  },
  {
   "cell_type": "code",
   "execution_count": 85,
   "metadata": {},
   "outputs": [
    {
     "data": {
      "text/plain": [
       "[array([[-0.2021342 , -0.52398956, -0.39456084, -0.03405682,  0.88415927,\n",
       "         -0.14573385, -0.35100287, -0.12934543,  0.7743712 , -0.2769007 ],\n",
       "        [-0.1795314 ,  0.28073975,  0.12213817, -0.42209756,  0.2780948 ,\n",
       "          0.33031613,  0.38943765,  0.10365221,  0.80225134, -0.5053686 ],\n",
       "        [-0.23064572,  0.8197238 ,  0.41905284, -0.08424684, -0.19763748,\n",
       "          0.7226037 , -0.07232069,  0.08506066, -0.17006712,  0.29559505],\n",
       "        [ 0.60055745,  0.46431428, -0.64535975, -0.4719543 , -0.09545835,\n",
       "          0.1262844 , -0.04551539, -0.12319717,  0.7037154 ,  0.21726388],\n",
       "        [-0.27170444, -0.81607866, -0.07898765,  0.23190685,  0.5298667 ,\n",
       "          0.8688656 ,  0.3009411 ,  0.40475565, -0.352946  , -0.0640467 ],\n",
       "        [ 0.3498691 ,  0.42720047,  0.05672726,  0.03536846, -0.4524389 ,\n",
       "          0.16529377, -0.60469955, -0.7585782 ,  0.6487256 ,  0.00132135],\n",
       "        [-0.642278  , -0.05845499,  0.15685424,  0.38728297,  0.40904832,\n",
       "         -0.02674877,  0.17302333,  0.573876  , -0.2832429 ,  0.3514794 ],\n",
       "        [-0.20302048,  0.11212216,  0.33460674,  0.3914421 , -0.26673704,\n",
       "         -0.6000628 ,  0.24954906,  0.36175504, -0.34141034,  0.06703573]],\n",
       "       dtype=float32),\n",
       " array([ 0.20176019,  0.24208458, -0.13728085, -0.14883731,  0.3722174 ,\n",
       "         0.311629  ,  0.0914636 ,  0.16857322,  0.27169004, -0.06238016],\n",
       "       dtype=float32),\n",
       " array([[ 0.3795183 , -0.63984257, -0.876682  ],\n",
       "        [ 0.5051684 , -0.8139393 , -0.38711008],\n",
       "        [ 0.26829523,  0.38231543, -0.05380715],\n",
       "        [ 0.4571408 ,  0.00486809, -0.25805032],\n",
       "        [-1.188523  ,  0.09631583,  0.35387453],\n",
       "        [-0.7306441 ,  0.5244337 , -0.7078345 ],\n",
       "        [ 0.1597189 , -0.8731636 ,  1.0992469 ],\n",
       "        [-0.5319705 , -0.7978795 ,  0.518351  ],\n",
       "        [ 0.24588609, -0.04526086, -0.89292806],\n",
       "        [-0.64008474, -0.27511525, -0.3824185 ]], dtype=float32),\n",
       " array([ 0.04626906,  0.12644413, -0.2362276 ], dtype=float32)]"
      ]
     },
     "execution_count": 85,
     "metadata": {},
     "output_type": "execute_result"
    }
   ],
   "source": [
    "model.get_weights()"
   ]
  },
  {
   "cell_type": "code",
   "execution_count": 81,
   "metadata": {},
   "outputs": [
    {
     "data": {
      "text/plain": [
       "array([[-0.2021342 , -0.52398956, -0.39456084, -0.03405682,  0.88415927,\n",
       "        -0.14573385, -0.35100287, -0.12934543,  0.7743712 , -0.2769007 ],\n",
       "       [-0.1795314 ,  0.28073975,  0.12213817, -0.42209756,  0.2780948 ,\n",
       "         0.33031613,  0.38943765,  0.10365221,  0.80225134, -0.5053686 ],\n",
       "       [-0.23064572,  0.8197238 ,  0.41905284, -0.08424684, -0.19763748,\n",
       "         0.7226037 , -0.07232069,  0.08506066, -0.17006712,  0.29559505],\n",
       "       [ 0.60055745,  0.46431428, -0.64535975, -0.4719543 , -0.09545835,\n",
       "         0.1262844 , -0.04551539, -0.12319717,  0.7037154 ,  0.21726388],\n",
       "       [-0.27170444, -0.81607866, -0.07898765,  0.23190685,  0.5298667 ,\n",
       "         0.8688656 ,  0.3009411 ,  0.40475565, -0.352946  , -0.0640467 ],\n",
       "       [ 0.3498691 ,  0.42720047,  0.05672726,  0.03536846, -0.4524389 ,\n",
       "         0.16529377, -0.60469955, -0.7585782 ,  0.6487256 ,  0.00132135],\n",
       "       [-0.642278  , -0.05845499,  0.15685424,  0.38728297,  0.40904832,\n",
       "        -0.02674877,  0.17302333,  0.573876  , -0.2832429 ,  0.3514794 ],\n",
       "       [-0.20302048,  0.11212216,  0.33460674,  0.3914421 , -0.26673704,\n",
       "        -0.6000628 ,  0.24954906,  0.36175504, -0.34141034,  0.06703573]],\n",
       "      dtype=float32)"
      ]
     },
     "execution_count": 81,
     "metadata": {},
     "output_type": "execute_result"
    }
   ],
   "source": [
    "# Inspect the weights of the Neural Network\n",
    "model.get_weights()[0] #input weights"
   ]
  },
  {
   "cell_type": "code",
   "execution_count": 82,
   "metadata": {},
   "outputs": [
    {
     "data": {
      "text/plain": [
       "array([ 0.20176019,  0.24208458, -0.13728085, -0.14883731,  0.3722174 ,\n",
       "        0.311629  ,  0.0914636 ,  0.16857322,  0.27169004, -0.06238016],\n",
       "      dtype=float32)"
      ]
     },
     "execution_count": 82,
     "metadata": {},
     "output_type": "execute_result"
    }
   ],
   "source": [
    "model.get_weights()[1] #input weights"
   ]
  },
  {
   "cell_type": "code",
   "execution_count": 83,
   "metadata": {},
   "outputs": [
    {
     "data": {
      "text/plain": [
       "[array([[-0.2021342 , -0.52398956, -0.39456084, -0.03405682,  0.88415927,\n",
       "         -0.14573385, -0.35100287, -0.12934543,  0.7743712 , -0.2769007 ],\n",
       "        [-0.1795314 ,  0.28073975,  0.12213817, -0.42209756,  0.2780948 ,\n",
       "          0.33031613,  0.38943765,  0.10365221,  0.80225134, -0.5053686 ],\n",
       "        [-0.23064572,  0.8197238 ,  0.41905284, -0.08424684, -0.19763748,\n",
       "          0.7226037 , -0.07232069,  0.08506066, -0.17006712,  0.29559505],\n",
       "        [ 0.60055745,  0.46431428, -0.64535975, -0.4719543 , -0.09545835,\n",
       "          0.1262844 , -0.04551539, -0.12319717,  0.7037154 ,  0.21726388],\n",
       "        [-0.27170444, -0.81607866, -0.07898765,  0.23190685,  0.5298667 ,\n",
       "          0.8688656 ,  0.3009411 ,  0.40475565, -0.352946  , -0.0640467 ],\n",
       "        [ 0.3498691 ,  0.42720047,  0.05672726,  0.03536846, -0.4524389 ,\n",
       "          0.16529377, -0.60469955, -0.7585782 ,  0.6487256 ,  0.00132135],\n",
       "        [-0.642278  , -0.05845499,  0.15685424,  0.38728297,  0.40904832,\n",
       "         -0.02674877,  0.17302333,  0.573876  , -0.2832429 ,  0.3514794 ],\n",
       "        [-0.20302048,  0.11212216,  0.33460674,  0.3914421 , -0.26673704,\n",
       "         -0.6000628 ,  0.24954906,  0.36175504, -0.34141034,  0.06703573]],\n",
       "       dtype=float32),\n",
       " array([ 0.20176019,  0.24208458, -0.13728085, -0.14883731,  0.3722174 ,\n",
       "         0.311629  ,  0.0914636 ,  0.16857322,  0.27169004, -0.06238016],\n",
       "       dtype=float32),\n",
       " array([[ 0.3795183 , -0.63984257, -0.876682  ],\n",
       "        [ 0.5051684 , -0.8139393 , -0.38711008],\n",
       "        [ 0.26829523,  0.38231543, -0.05380715],\n",
       "        [ 0.4571408 ,  0.00486809, -0.25805032],\n",
       "        [-1.188523  ,  0.09631583,  0.35387453],\n",
       "        [-0.7306441 ,  0.5244337 , -0.7078345 ],\n",
       "        [ 0.1597189 , -0.8731636 ,  1.0992469 ],\n",
       "        [-0.5319705 , -0.7978795 ,  0.518351  ],\n",
       "        [ 0.24588609, -0.04526086, -0.89292806],\n",
       "        [-0.64008474, -0.27511525, -0.3824185 ]], dtype=float32),\n",
       " array([ 0.04626906,  0.12644413, -0.2362276 ], dtype=float32)]"
      ]
     },
     "execution_count": 83,
     "metadata": {},
     "output_type": "execute_result"
    }
   ],
   "source": [
    "model.get_weights() # output weights"
   ]
  },
  {
   "cell_type": "code",
   "execution_count": 84,
   "metadata": {},
   "outputs": [
    {
     "data": {
      "text/plain": [
       "array([ 0.04626906,  0.12644413, -0.2362276 ], dtype=float32)"
      ]
     },
     "execution_count": 84,
     "metadata": {},
     "output_type": "execute_result"
    }
   ],
   "source": [
    "model.get_weights()[3] # output bias"
   ]
  },
  {
   "cell_type": "code",
   "execution_count": null,
   "metadata": {},
   "outputs": [],
   "source": []
  }
 ],
 "metadata": {
  "kernelspec": {
   "display_name": "Python 3",
   "language": "python",
   "name": "python3"
  },
  "language_info": {
   "codemirror_mode": {
    "name": "ipython",
    "version": 3
   },
   "file_extension": ".py",
   "mimetype": "text/x-python",
   "name": "python",
   "nbconvert_exporter": "python",
   "pygments_lexer": "ipython3",
   "version": "3.8.5"
  }
 },
 "nbformat": 4,
 "nbformat_minor": 4
}
