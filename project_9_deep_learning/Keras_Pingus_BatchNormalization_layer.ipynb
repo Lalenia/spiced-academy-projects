{
 "cells": [
  {
   "cell_type": "code",
   "execution_count": 3,
   "metadata": {},
   "outputs": [],
   "source": [
    "import pandas as pd\n",
    "import matplotlib.pyplot as plt\n",
    "import seaborn as sns\n",
    "\n",
    "import tensorflow as tf\n",
    "from tensorflow.keras import backend as K\n",
    "from tensorflow.keras.layers import Dense\n",
    "from tensorflow.keras.models import Sequential\n",
    "\n",
    "import keras as keras\n",
    "from keras.layers import Dropout\n",
    "\n",
    "\n",
    "import h5py\n",
    "\n",
    "from sklearn.pipeline import make_pipeline\n",
    "from sklearn.compose import ColumnTransformer\n",
    "from sklearn.preprocessing import MinMaxScaler\n",
    "from sklearn.impute import SimpleImputer\n",
    "from sklearn.preprocessing import KBinsDiscretizer\n",
    "from sklearn.preprocessing import StandardScaler\n",
    "\n",
    "plt.rcParams['figure.figsize'] = (12,6)"
   ]
  },
  {
   "cell_type": "code",
   "execution_count": 4,
   "metadata": {},
   "outputs": [],
   "source": [
    "df = pd.read_csv('penguins_simple.csv', sep=';')"
   ]
  },
  {
   "cell_type": "code",
   "execution_count": 5,
   "metadata": {},
   "outputs": [
    {
     "data": {
      "text/plain": [
       "Culmen Length (mm)     0\n",
       "Culmen Depth (mm)      0\n",
       "Flipper Length (mm)    0\n",
       "Body Mass (g)          0\n",
       "dtype: int64"
      ]
     },
     "execution_count": 5,
     "metadata": {},
     "output_type": "execute_result"
    }
   ],
   "source": [
    "X = df.iloc[:, 1:5] / 100\n",
    "y = pd.get_dummies(df['Species'])\n",
    "\n",
    "X.isnull().sum()"
   ]
  },
  {
   "cell_type": "code",
   "execution_count": 6,
   "metadata": {},
   "outputs": [
    {
     "data": {
      "text/plain": [
       "Index(['Culmen Length (mm)', 'Culmen Depth (mm)', 'Flipper Length (mm)',\n",
       "       'Body Mass (g)'],\n",
       "      dtype='object')"
      ]
     },
     "execution_count": 6,
     "metadata": {},
     "output_type": "execute_result"
    }
   ],
   "source": [
    "X.columns"
   ]
  },
  {
   "cell_type": "code",
   "execution_count": 7,
   "metadata": {},
   "outputs": [
    {
     "data": {
      "text/plain": [
       "(333, 4)"
      ]
     },
     "execution_count": 7,
     "metadata": {},
     "output_type": "execute_result"
    }
   ],
   "source": [
    "X.shape"
   ]
  },
  {
   "cell_type": "code",
   "execution_count": 8,
   "metadata": {},
   "outputs": [
    {
     "data": {
      "text/plain": [
       "array([[ 0.25454545,  0.66666667,  0.15254237, ...,  0.7807321 ,\n",
       "        -1.42675157, -0.56847478],\n",
       "       [ 0.26909091,  0.51190476,  0.23728814, ...,  0.11958397,\n",
       "        -1.06947358, -0.50628618],\n",
       "       [ 0.29818182,  0.58333333,  0.38983051, ...,  0.42472926,\n",
       "        -0.42637319, -1.1903608 ],\n",
       "       ...,\n",
       "       [ 0.66545455,  0.30952381,  0.84745763, ..., -0.74499437,\n",
       "         1.50292796,  1.91906927],\n",
       "       [ 0.47636364,  0.20238095,  0.6779661 , ..., -1.20271231,\n",
       "         0.78837197,  1.23499466],\n",
       "       [ 0.64727273,  0.35714286,  0.69491525, ..., -0.54156417,\n",
       "         0.85982757,  1.48374906]])"
      ]
     },
     "execution_count": 8,
     "metadata": {},
     "output_type": "execute_result"
    }
   ],
   "source": [
    "trans = ColumnTransformer([\n",
    "    ('categorial_imputer', MinMaxScaler(), ['Culmen Length (mm)', 'Culmen Depth (mm)', 'Flipper Length (mm)',\n",
    "       'Body Mass (g)']),\n",
    "    ('numeric_imputer', StandardScaler(), ['Culmen Length (mm)', 'Culmen Depth (mm)', 'Flipper Length (mm)',\n",
    "       'Body Mass (g)'])\n",
    "])\n",
    "\n",
    "trans.fit(X)                    \n",
    "X_t = trans.transform(X) \n",
    "X_t"
   ]
  },
  {
   "cell_type": "code",
   "execution_count": 9,
   "metadata": {},
   "outputs": [],
   "source": [
    "# MNIST: (60000, 28, 28) reshape to (60000, 784)"
   ]
  },
  {
   "cell_type": "code",
   "execution_count": 10,
   "metadata": {},
   "outputs": [
    {
     "data": {
      "text/plain": [
       "((333, 8), (333, 3))"
      ]
     },
     "execution_count": 10,
     "metadata": {},
     "output_type": "execute_result"
    }
   ],
   "source": [
    "X_t.shape, y.shape"
   ]
  },
  {
   "cell_type": "code",
   "execution_count": 23,
   "metadata": {},
   "outputs": [],
   "source": [
    "K.clear_session() # reset your model parameters and everything"
   ]
  },
  {
   "cell_type": "markdown",
   "metadata": {},
   "source": [
    "#### Batch normalization, \n",
    "\n",
    "or batchnorm for short, is proposed as a technique to help coordinate the update of multiple layers in the model.\n",
    "\n",
    "How to Standardize Layer Inputs\n",
    "\n",
    "Batch normalization can be implemented during training by calculating the mean and standard deviation of each input variable to a layer per mini-batch and using these statistics to perform the standardization.\n",
    "\n",
    "Alternately, a running average of mean and standard deviation can be maintained across mini-batches, but may result in unstable training."
   ]
  },
  {
   "cell_type": "code",
   "execution_count": 12,
   "metadata": {},
   "outputs": [],
   "source": [
    "# TODO: try adding a BatchNormalization layer (regularization + speedup)"
   ]
  },
  {
   "cell_type": "markdown",
   "metadata": {},
   "source": [
    "Not suggested both Dropout and BatchNormalization to be used together.\n",
    "The reason is that the statistics used to normalize the activations of the prior layer may become noisy given the random dropping\n",
    "out of nodes during the dropout procedure.\n"
   ]
  },
  {
   "cell_type": "markdown",
   "metadata": {},
   "source": [
    "#Personal assumption here:\n",
    "When commenting the under parameters, i had much better results, the model performed significantly bette.\n",
    "It can be that the data where already scaled, and didn't need again."
   ]
  },
  {
   "cell_type": "code",
   "execution_count": 24,
   "metadata": {},
   "outputs": [],
   "source": [
    "model = Sequential()\n",
    "\n",
    "model.add(Dense(10, activation='relu', input_shape=(8,)))\n",
    "#model.add(keras.layers.Dropout(rate=0.50, noise_shape=None, seed=None))\n",
    "model.add(keras.layers.BatchNormalization(\n",
    "    axis=-1,\n",
    "    momentum=0.99,\n",
    "    epsilon=0.001,\n",
    "    center=True,\n",
    "    scale=True,\n",
    "    #beta_initializer=\"zeros\",\n",
    "    #gamma_initializer=\"ones\",\n",
    "    #moving_mean_initializer=\"zeros\",\n",
    "    #moving_variance_initializer=\"ones\",\n",
    "    beta_regularizer=None,\n",
    "    gamma_regularizer=None,\n",
    "    beta_constraint=None,\n",
    "    gamma_constraint=None\n",
    "))\n",
    "model.add(Dense(3, activation='softmax'))"
   ]
  },
  {
   "cell_type": "code",
   "execution_count": 25,
   "metadata": {},
   "outputs": [],
   "source": [
    "model.compile(optimizer='adam', loss='categorical_crossentropy', metrics=['acc'])\n",
    "# TODO: check how sparse_categorical_crossentropy differs"
   ]
  },
  {
   "cell_type": "code",
   "execution_count": 26,
   "metadata": {},
   "outputs": [
    {
     "name": "stdout",
     "output_type": "stream",
     "text": [
      "Model: \"sequential\"\n",
      "_________________________________________________________________\n",
      "Layer (type)                 Output Shape              Param #   \n",
      "=================================================================\n",
      "dense (Dense)                (None, 10)                90        \n",
      "_________________________________________________________________\n",
      "batch_normalization (BatchNo (None, 10)                40        \n",
      "_________________________________________________________________\n",
      "dense_1 (Dense)              (None, 3)                 33        \n",
      "=================================================================\n",
      "Total params: 163\n",
      "Trainable params: 143\n",
      "Non-trainable params: 20\n",
      "_________________________________________________________________\n"
     ]
    }
   ],
   "source": [
    "model.summary()"
   ]
  },
  {
   "cell_type": "code",
   "execution_count": 27,
   "metadata": {},
   "outputs": [],
   "source": [
    "callback = tf.keras.callbacks.EarlyStopping(monitor='loss')"
   ]
  },
  {
   "cell_type": "code",
   "execution_count": 28,
   "metadata": {},
   "outputs": [
    {
     "name": "stdout",
     "output_type": "stream",
     "text": [
      "Epoch 1/100\n",
      "8/8 [==============================] - 1s 30ms/step - loss: 1.5652 - acc: 0.4435 - val_loss: 1.3671 - val_acc: 0.2000\n",
      "Epoch 2/100\n",
      "8/8 [==============================] - 0s 7ms/step - loss: 1.4818 - acc: 0.4983 - val_loss: 1.3276 - val_acc: 0.2100\n",
      "Epoch 3/100\n",
      "8/8 [==============================] - 0s 7ms/step - loss: 1.4640 - acc: 0.4915 - val_loss: 1.2896 - val_acc: 0.2100\n",
      "Epoch 4/100\n",
      "8/8 [==============================] - 0s 7ms/step - loss: 1.3118 - acc: 0.5403 - val_loss: 1.2552 - val_acc: 0.2400\n",
      "Epoch 5/100\n",
      "8/8 [==============================] - 0s 7ms/step - loss: 1.2619 - acc: 0.5670 - val_loss: 1.2218 - val_acc: 0.2500\n",
      "Epoch 6/100\n",
      "8/8 [==============================] - 0s 7ms/step - loss: 1.2491 - acc: 0.6221 - val_loss: 1.1943 - val_acc: 0.2900\n",
      "Epoch 7/100\n",
      "8/8 [==============================] - 0s 8ms/step - loss: 1.0843 - acc: 0.6111 - val_loss: 1.1661 - val_acc: 0.3000\n",
      "Epoch 8/100\n",
      "8/8 [==============================] - 0s 7ms/step - loss: 1.0310 - acc: 0.6701 - val_loss: 1.1358 - val_acc: 0.3400\n",
      "Epoch 9/100\n",
      "8/8 [==============================] - 0s 8ms/step - loss: 1.0307 - acc: 0.6856 - val_loss: 1.1002 - val_acc: 0.4000\n",
      "Epoch 10/100\n",
      "8/8 [==============================] - 0s 7ms/step - loss: 0.8607 - acc: 0.7163 - val_loss: 1.0608 - val_acc: 0.4400\n",
      "Epoch 11/100\n",
      "8/8 [==============================] - 0s 7ms/step - loss: 0.8046 - acc: 0.7407 - val_loss: 1.0183 - val_acc: 0.5100\n",
      "Epoch 12/100\n",
      "8/8 [==============================] - 0s 7ms/step - loss: 0.7931 - acc: 0.7630 - val_loss: 0.9758 - val_acc: 0.5700\n",
      "Epoch 13/100\n",
      "8/8 [==============================] - 0s 7ms/step - loss: 0.7901 - acc: 0.7734 - val_loss: 0.9309 - val_acc: 0.6200\n",
      "Epoch 14/100\n",
      "8/8 [==============================] - 0s 8ms/step - loss: 0.6903 - acc: 0.7967 - val_loss: 0.8895 - val_acc: 0.7000\n",
      "Epoch 15/100\n",
      "8/8 [==============================] - 0s 7ms/step - loss: 0.6476 - acc: 0.8290 - val_loss: 0.8430 - val_acc: 0.7500\n",
      "Epoch 16/100\n",
      "8/8 [==============================] - 0s 7ms/step - loss: 0.5690 - acc: 0.8582 - val_loss: 0.8036 - val_acc: 0.8000\n",
      "Epoch 17/100\n",
      "8/8 [==============================] - 0s 7ms/step - loss: 0.6391 - acc: 0.8301 - val_loss: 0.7662 - val_acc: 0.8000\n"
     ]
    }
   ],
   "source": [
    "history = model.fit(X_t, y, batch_size=32, epochs=100, validation_split=0.3, callbacks=[callback])"
   ]
  },
  {
   "cell_type": "code",
   "execution_count": 29,
   "metadata": {},
   "outputs": [
    {
     "data": {
      "image/png": "[encoded data removed]",
      "text/plain": [
       "<Figure size 864x432 with 1 Axes>"
      ]
     },
     "metadata": {
      "needs_background": "light"
     },
     "output_type": "display_data"
    }
   ],
   "source": [
    "plt.plot(history.history['loss'], label='training_loss')\n",
    "plt.plot(history.history['val_loss'], label='validation_loss')\n",
    "plt.title('Training and Validation Loss')\n",
    "plt.xlabel('Epoch')\n",
    "plt.ylabel('Loss')\n",
    "plt.legend()\n",
    "plt.show()"
   ]
  },
  {
   "cell_type": "code",
   "execution_count": 91,
   "metadata": {},
   "outputs": [
    {
     "data": {
      "image/png": "[encoded data removed]",
      "text/plain": [
       "<Figure size 864x432 with 1 Axes>"
      ]
     },
     "metadata": {
      "needs_background": "light"
     },
     "output_type": "display_data"
    }
   ],
   "source": [
    "plt.plot(history.history['acc'], label='training_accuracy')\n",
    "plt.plot(history.history['val_acc'], label='validation_accuracy')\n",
    "plt.title('Training and Validation Accuracy')\n",
    "plt.xlabel('Epoch')\n",
    "plt.ylabel('Accuracy')\n",
    "plt.legend()\n",
    "plt.show()"
   ]
  },
  {
   "cell_type": "code",
   "execution_count": 92,
   "metadata": {},
   "outputs": [
    {
     "data": {
      "text/plain": [
       "[0.05212625116109848, 0.9879879951477051]"
      ]
     },
     "execution_count": 92,
     "metadata": {},
     "output_type": "execute_result"
    }
   ],
   "source": [
    "# Evaluate the model\n",
    "model.evaluate(X_t, y, verbose=0)"
   ]
  },
  {
   "cell_type": "code",
   "execution_count": 93,
   "metadata": {},
   "outputs": [
    {
     "data": {
      "text/plain": [
       "array([[9.8906660e-01, 9.7355973e-03, 1.1977496e-03],\n",
       "       [9.6862298e-01, 2.6667371e-02, 4.7096717e-03],\n",
       "       [9.2736161e-01, 6.8503276e-02, 4.1350815e-03],\n",
       "       [9.9918324e-01, 6.3772989e-04, 1.7908259e-04],\n",
       "       [9.9742162e-01, 2.3412388e-03, 2.3704160e-04],\n",
       "       [9.7865385e-01, 1.8970286e-02, 2.3758628e-03],\n",
       "       [9.9735093e-01, 1.2974326e-03, 1.3516045e-03],\n",
       "       [7.0604444e-01, 2.8675923e-01, 7.1963319e-03],\n",
       "       [9.9936980e-01, 5.3870399e-04, 9.1539805e-05],\n",
       "       [9.9993336e-01, 3.0984877e-05, 3.5648143e-05]], dtype=float32)"
      ]
     },
     "execution_count": 93,
     "metadata": {},
     "output_type": "execute_result"
    }
   ],
   "source": [
    "# Look at the first 10 predictions\n",
    "model.predict(X_t)[:10]"
   ]
  },
  {
   "cell_type": "code",
   "execution_count": 95,
   "metadata": {},
   "outputs": [
    {
     "name": "stdout",
     "output_type": "stream",
     "text": [
      "dict_keys(['loss', 'acc', 'val_loss', 'val_acc'])\n"
     ]
    }
   ],
   "source": [
    " print(history.history.keys())"
   ]
  },
  {
   "cell_type": "code",
   "execution_count": 78,
   "metadata": {},
   "outputs": [],
   "source": [
    "keys = history.history.keys()"
   ]
  },
  {
   "cell_type": "code",
   "execution_count": 79,
   "metadata": {},
   "outputs": [
    {
     "name": "stdout",
     "output_type": "stream",
     "text": [
      "loss\n",
      "acc\n",
      "val_loss\n",
      "val_acc\n"
     ]
    }
   ],
   "source": [
    "for key in keys:\n",
    "    print (key)"
   ]
  },
  {
   "cell_type": "markdown",
   "metadata": {},
   "source": [
    "<b> WEIGHTS </b>"
   ]
  },
  {
   "cell_type": "code",
   "execution_count": 85,
   "metadata": {},
   "outputs": [
    {
     "data": {
      "text/plain": [
       "[array([[-0.2021342 , -0.52398956, -0.39456084, -0.03405682,  0.88415927,\n",
       "         -0.14573385, -0.35100287, -0.12934543,  0.7743712 , -0.2769007 ],\n",
       "        [-0.1795314 ,  0.28073975,  0.12213817, -0.42209756,  0.2780948 ,\n",
       "          0.33031613,  0.38943765,  0.10365221,  0.80225134, -0.5053686 ],\n",
       "        [-0.23064572,  0.8197238 ,  0.41905284, -0.08424684, -0.19763748,\n",
       "          0.7226037 , -0.07232069,  0.08506066, -0.17006712,  0.29559505],\n",
       "        [ 0.60055745,  0.46431428, -0.64535975, -0.4719543 , -0.09545835,\n",
       "          0.1262844 , -0.04551539, -0.12319717,  0.7037154 ,  0.21726388],\n",
       "        [-0.27170444, -0.81607866, -0.07898765,  0.23190685,  0.5298667 ,\n",
       "          0.8688656 ,  0.3009411 ,  0.40475565, -0.352946  , -0.0640467 ],\n",
       "        [ 0.3498691 ,  0.42720047,  0.05672726,  0.03536846, -0.4524389 ,\n",
       "          0.16529377, -0.60469955, -0.7585782 ,  0.6487256 ,  0.00132135],\n",
       "        [-0.642278  , -0.05845499,  0.15685424,  0.38728297,  0.40904832,\n",
       "         -0.02674877,  0.17302333,  0.573876  , -0.2832429 ,  0.3514794 ],\n",
       "        [-0.20302048,  0.11212216,  0.33460674,  0.3914421 , -0.26673704,\n",
       "         -0.6000628 ,  0.24954906,  0.36175504, -0.34141034,  0.06703573]],\n",
       "       dtype=float32),\n",
       " array([ 0.20176019,  0.24208458, -0.13728085, -0.14883731,  0.3722174 ,\n",
       "         0.311629  ,  0.0914636 ,  0.16857322,  0.27169004, -0.06238016],\n",
       "       dtype=float32),\n",
       " array([[ 0.3795183 , -0.63984257, -0.876682  ],\n",
       "        [ 0.5051684 , -0.8139393 , -0.38711008],\n",
       "        [ 0.26829523,  0.38231543, -0.05380715],\n",
       "        [ 0.4571408 ,  0.00486809, -0.25805032],\n",
       "        [-1.188523  ,  0.09631583,  0.35387453],\n",
       "        [-0.7306441 ,  0.5244337 , -0.7078345 ],\n",
       "        [ 0.1597189 , -0.8731636 ,  1.0992469 ],\n",
       "        [-0.5319705 , -0.7978795 ,  0.518351  ],\n",
       "        [ 0.24588609, -0.04526086, -0.89292806],\n",
       "        [-0.64008474, -0.27511525, -0.3824185 ]], dtype=float32),\n",
       " array([ 0.04626906,  0.12644413, -0.2362276 ], dtype=float32)]"
      ]
     },
     "execution_count": 85,
     "metadata": {},
     "output_type": "execute_result"
    }
   ],
   "source": [
    "model.get_weights()"
   ]
  },
  {
   "cell_type": "code",
   "execution_count": 81,
   "metadata": {},
   "outputs": [
    {
     "data": {
      "text/plain": [
       "array([[-0.2021342 , -0.52398956, -0.39456084, -0.03405682,  0.88415927,\n",
       "        -0.14573385, -0.35100287, -0.12934543,  0.7743712 , -0.2769007 ],\n",
       "       [-0.1795314 ,  0.28073975,  0.12213817, -0.42209756,  0.2780948 ,\n",
       "         0.33031613,  0.38943765,  0.10365221,  0.80225134, -0.5053686 ],\n",
       "       [-0.23064572,  0.8197238 ,  0.41905284, -0.08424684, -0.19763748,\n",
       "         0.7226037 , -0.07232069,  0.08506066, -0.17006712,  0.29559505],\n",
       "       [ 0.60055745,  0.46431428, -0.64535975, -0.4719543 , -0.09545835,\n",
       "         0.1262844 , -0.04551539, -0.12319717,  0.7037154 ,  0.21726388],\n",
       "       [-0.27170444, -0.81607866, -0.07898765,  0.23190685,  0.5298667 ,\n",
       "         0.8688656 ,  0.3009411 ,  0.40475565, -0.352946  , -0.0640467 ],\n",
       "       [ 0.3498691 ,  0.42720047,  0.05672726,  0.03536846, -0.4524389 ,\n",
       "         0.16529377, -0.60469955, -0.7585782 ,  0.6487256 ,  0.00132135],\n",
       "       [-0.642278  , -0.05845499,  0.15685424,  0.38728297,  0.40904832,\n",
       "        -0.02674877,  0.17302333,  0.573876  , -0.2832429 ,  0.3514794 ],\n",
       "       [-0.20302048,  0.11212216,  0.33460674,  0.3914421 , -0.26673704,\n",
       "        -0.6000628 ,  0.24954906,  0.36175504, -0.34141034,  0.06703573]],\n",
       "      dtype=float32)"
      ]
     },
     "execution_count": 81,
     "metadata": {},
     "output_type": "execute_result"
    }
   ],
   "source": [
    "# Inspect the weights of the Neural Network\n",
    "model.get_weights()[0] #input weights"
   ]
  },
  {
   "cell_type": "code",
   "execution_count": 82,
   "metadata": {},
   "outputs": [
    {
     "data": {
      "text/plain": [
       "array([ 0.20176019,  0.24208458, -0.13728085, -0.14883731,  0.3722174 ,\n",
       "        0.311629  ,  0.0914636 ,  0.16857322,  0.27169004, -0.06238016],\n",
       "      dtype=float32)"
      ]
     },
     "execution_count": 82,
     "metadata": {},
     "output_type": "execute_result"
    }
   ],
   "source": [
    "model.get_weights()[1] #input weights"
   ]
  },
  {
   "cell_type": "code",
   "execution_count": 83,
   "metadata": {},
   "outputs": [
    {
     "data": {
      "text/plain": [
       "[array([[-0.2021342 , -0.52398956, -0.39456084, -0.03405682,  0.88415927,\n",
       "         -0.14573385, -0.35100287, -0.12934543,  0.7743712 , -0.2769007 ],\n",
       "        [-0.1795314 ,  0.28073975,  0.12213817, -0.42209756,  0.2780948 ,\n",
       "          0.33031613,  0.38943765,  0.10365221,  0.80225134, -0.5053686 ],\n",
       "        [-0.23064572,  0.8197238 ,  0.41905284, -0.08424684, -0.19763748,\n",
       "          0.7226037 , -0.07232069,  0.08506066, -0.17006712,  0.29559505],\n",
       "        [ 0.60055745,  0.46431428, -0.64535975, -0.4719543 , -0.09545835,\n",
       "          0.1262844 , -0.04551539, -0.12319717,  0.7037154 ,  0.21726388],\n",
       "        [-0.27170444, -0.81607866, -0.07898765,  0.23190685,  0.5298667 ,\n",
       "          0.8688656 ,  0.3009411 ,  0.40475565, -0.352946  , -0.0640467 ],\n",
       "        [ 0.3498691 ,  0.42720047,  0.05672726,  0.03536846, -0.4524389 ,\n",
       "          0.16529377, -0.60469955, -0.7585782 ,  0.6487256 ,  0.00132135],\n",
       "        [-0.642278  , -0.05845499,  0.15685424,  0.38728297,  0.40904832,\n",
       "         -0.02674877,  0.17302333,  0.573876  , -0.2832429 ,  0.3514794 ],\n",
       "        [-0.20302048,  0.11212216,  0.33460674,  0.3914421 , -0.26673704,\n",
       "         -0.6000628 ,  0.24954906,  0.36175504, -0.34141034,  0.06703573]],\n",
       "       dtype=float32),\n",
       " array([ 0.20176019,  0.24208458, -0.13728085, -0.14883731,  0.3722174 ,\n",
       "         0.311629  ,  0.0914636 ,  0.16857322,  0.27169004, -0.06238016],\n",
       "       dtype=float32),\n",
       " array([[ 0.3795183 , -0.63984257, -0.876682  ],\n",
       "        [ 0.5051684 , -0.8139393 , -0.38711008],\n",
       "        [ 0.26829523,  0.38231543, -0.05380715],\n",
       "        [ 0.4571408 ,  0.00486809, -0.25805032],\n",
       "        [-1.188523  ,  0.09631583,  0.35387453],\n",
       "        [-0.7306441 ,  0.5244337 , -0.7078345 ],\n",
       "        [ 0.1597189 , -0.8731636 ,  1.0992469 ],\n",
       "        [-0.5319705 , -0.7978795 ,  0.518351  ],\n",
       "        [ 0.24588609, -0.04526086, -0.89292806],\n",
       "        [-0.64008474, -0.27511525, -0.3824185 ]], dtype=float32),\n",
       " array([ 0.04626906,  0.12644413, -0.2362276 ], dtype=float32)]"
      ]
     },
     "execution_count": 83,
     "metadata": {},
     "output_type": "execute_result"
    }
   ],
   "source": [
    "model.get_weights() # output weights"
   ]
  },
  {
   "cell_type": "code",
   "execution_count": 84,
   "metadata": {},
   "outputs": [
    {
     "data": {
      "text/plain": [
       "array([ 0.04626906,  0.12644413, -0.2362276 ], dtype=float32)"
      ]
     },
     "execution_count": 84,
     "metadata": {},
     "output_type": "execute_result"
    }
   ],
   "source": [
    "model.get_weights()[3] # output bias"
   ]
  },
  {
   "cell_type": "code",
   "execution_count": null,
   "metadata": {},
   "outputs": [],
   "source": []
  }
 ],
 "metadata": {
  "kernelspec": {
   "display_name": "Python 3 (ipykernel)",
   "language": "python",
   "name": "python3"
  },
  "language_info": {
   "codemirror_mode": {
    "name": "ipython",
    "version": 3
   },
   "file_extension": ".py",
   "mimetype": "text/x-python",
   "name": "python",
   "nbconvert_exporter": "python",
   "pygments_lexer": "ipython3",
   "version": "3.9.5"
  }
 },
 "nbformat": 4,
 "nbformat_minor": 4
}
