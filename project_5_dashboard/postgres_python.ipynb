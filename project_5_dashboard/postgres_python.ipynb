{
 "cells": [
  {
   "cell_type": "markdown",
   "metadata": {},
   "source": [
    "`pip install SQLAlchemy` --- general-purpose library for interacting with SQL Databases through python.\n",
    "\n",
    "`pip install psycopg2-binary` --- postgres-specific \"driver\""
   ]
  },
  {
   "cell_type": "markdown",
   "metadata": {},
   "source": [
    "What you need to connect to any database server / database in the world:\n",
    "1. host\n",
    "2. port\n",
    "3. username\n",
    "4. password\n",
    "5. database name"
   ]
  },
  {
   "cell_type": "code",
   "execution_count": 1,
   "metadata": {},
   "outputs": [],
   "source": [
    "from sqlalchemy import create_engine"
   ]
  },
  {
   "cell_type": "code",
   "execution_count": 2,
   "metadata": {},
   "outputs": [],
   "source": [
    "HOST = 'convolutional-curry.cxk5vhnfj8ju.eu-central-1.rds.amazonaws.com'\n",
    "PORT = '5432'\n",
    "USERNAME = 'postgres'\n",
    "PASSWORD = 'titanic99'\n",
    "DB = 'postgres'\n",
    "\n",
    "conn_string = f\"postgresql://{USERNAME}:{PASSWORD}@{HOST}:{PORT}/{DB}\"\n",
    "conn = create_engine(conn_string)\n",
    "\n",
    "conn.execute(\"CREATE TABLE IF NOT EXISTS test (hi TEXT);\")\n",
    "\n",
    "conn.execute(\"INSERT INTO test (hi) VALUES ('hello convolutional curry!');\")\n",
    "\n",
    "result = conn.execute(\"SELECT * FROM test;\")"
   ]
  },
  {
   "cell_type": "code",
   "execution_count": 3,
   "metadata": {},
   "outputs": [],
   "source": [
    "# result.first()\n",
    "#the result of a query returns a reference to the query response, which you have to \"unpack\" yourself\n",
    "#this is because it's possible that the query response is too large for python to handle."
   ]
  },
  {
   "cell_type": "code",
   "execution_count": 4,
   "metadata": {},
   "outputs": [],
   "source": [
    "# result.fetchall()\n",
    "#result is a \"generator-like\" object. Once you start pulling data from it, it gets removed."
   ]
  },
  {
   "cell_type": "code",
   "execution_count": 5,
   "metadata": {},
   "outputs": [],
   "source": [
    "import pandas as pd"
   ]
  },
  {
   "cell_type": "code",
   "execution_count": 6,
   "metadata": {},
   "outputs": [],
   "source": [
    "df = pd.DataFrame(result.fetchall())"
   ]
  },
  {
   "cell_type": "markdown",
   "metadata": {},
   "source": [
    "---"
   ]
  },
  {
   "cell_type": "markdown",
   "metadata": {},
   "source": [
    "Connecting to another database -- pretty simple; just replace the values of the variables!"
   ]
  },
  {
   "cell_type": "code",
   "execution_count": 7,
   "metadata": {},
   "outputs": [],
   "source": [
    "HOST = 'convolutional-curry.cxk5vhnfj8ju.eu-central-1.rds.amazonaws.com'\n",
    "PORT = '5432'\n",
    "USERNAME = 'postgres'\n",
    "PASSWORD = 'titanic99'\n",
    "DB = 'darias_northwind'\n",
    "\n",
    "conn_string_northwind = f\"postgresql://{USERNAME}:{PASSWORD}@{HOST}:{PORT}/{DB}\"\n",
    "conn_northwind = create_engine(conn_string_northwind)"
   ]
  },
  {
   "cell_type": "code",
   "execution_count": 8,
   "metadata": {},
   "outputs": [
    {
     "data": {
      "text/plain": [
       "[(830,)]"
      ]
     },
     "execution_count": 8,
     "metadata": {},
     "output_type": "execute_result"
    }
   ],
   "source": [
    "conn_northwind.execute('SELECT COUNT(*) FROM orders;').fetchall()"
   ]
  },
  {
   "cell_type": "code",
   "execution_count": 9,
   "metadata": {},
   "outputs": [],
   "source": [
    "df = pd.read_sql_table('orders', conn_northwind)"
   ]
  },
  {
   "cell_type": "markdown",
   "metadata": {},
   "source": [
    "---"
   ]
  },
  {
   "cell_type": "code",
   "execution_count": 10,
   "metadata": {},
   "outputs": [],
   "source": [
    "df.to_csv('darias_orders_table.csv')"
   ]
  },
  {
   "cell_type": "code",
   "execution_count": 11,
   "metadata": {},
   "outputs": [],
   "source": [
    "df.to_sql('new_orders', conn, if_exists='replace')"
   ]
  },
  {
   "cell_type": "code",
   "execution_count": 12,
   "metadata": {},
   "outputs": [
    {
     "data": {
      "text/html": [
       "<div>\n",
       "<style scoped>\n",
       "    .dataframe tbody tr th:only-of-type {\n",
       "        vertical-align: middle;\n",
       "    }\n",
       "\n",
       "    .dataframe tbody tr th {\n",
       "        vertical-align: top;\n",
       "    }\n",
       "\n",
       "    .dataframe thead th {\n",
       "        text-align: right;\n",
       "    }\n",
       "</style>\n",
       "<table border=\"1\" class=\"dataframe\">\n",
       "  <thead>\n",
       "    <tr style=\"text-align: right;\">\n",
       "      <th></th>\n",
       "      <th>customerid</th>\n",
       "      <th>orderid</th>\n",
       "    </tr>\n",
       "  </thead>\n",
       "  <tbody>\n",
       "  </tbody>\n",
       "</table>\n",
       "</div>"
      ],
      "text/plain": [
       "Empty DataFrame\n",
       "Columns: [customerid, orderid]\n",
       "Index: []"
      ]
     },
     "execution_count": 12,
     "metadata": {},
     "output_type": "execute_result"
    }
   ],
   "source": [
    "query = '''\n",
    "SELECT customerid, orderid \n",
    "FROM orders WHERE shipvia > 10;\n",
    "'''\n",
    "\n",
    "\n",
    "pd.read_sql_query(query, conn_northwind)"
   ]
  },
  {
   "cell_type": "markdown",
   "metadata": {},
   "source": [
    "If you want to explore SQLAlchemy further and write SQL Queries more elegantly without having to write messy strings, you need to use the Object Relational Mapper (ORM). 11.7 of the course material."
   ]
  },
  {
   "cell_type": "markdown",
   "metadata": {},
   "source": [
    "---"
   ]
  },
  {
   "cell_type": "markdown",
   "metadata": {},
   "source": [
    "You can also set `echo=True` to see what SQL queries that SQLAlchemy is running under the hood for you.\n",
    "- also, if you want to specify datatypes, you can also import things like VARCHAR, TEXT, and INTEGER from sqlalchemy."
   ]
  },
  {
   "cell_type": "code",
   "execution_count": 13,
   "metadata": {},
   "outputs": [],
   "source": [
    "HOST = 'convolutional-curry.cxk5vhnfj8ju.eu-central-1.rds.amazonaws.com'\n",
    "PORT = '5432'\n",
    "USERNAME = 'postgres'\n",
    "PASSWORD = 'titanic99'\n",
    "DB = 'postgres'\n",
    "\n",
    "conn_string = f\"postgresql://{USERNAME}:{PASSWORD}@{HOST}:{PORT}/{DB}\"\n",
    "conn = create_engine(conn_string, echo=True)"
   ]
  },
  {
   "cell_type": "code",
   "execution_count": 14,
   "metadata": {},
   "outputs": [],
   "source": [
    "df = pd.read_csv('darias_orders_table.csv', index_col=0)"
   ]
  },
  {
   "cell_type": "code",
   "execution_count": 15,
   "metadata": {},
   "outputs": [],
   "source": [
    "from sqlalchemy.types import VARCHAR\n",
    "# from sqlalchemy.dialects import ..."
   ]
  },
  {
   "cell_type": "code",
   "execution_count": 16,
   "metadata": {},
   "outputs": [
    {
     "name": "stdout",
     "output_type": "stream",
     "text": [
      "2021-06-10 11:04:56,557 INFO sqlalchemy.engine.base.Engine select version()\n",
      "2021-06-10 11:04:56,559 INFO sqlalchemy.engine.base.Engine {}\n",
      "2021-06-10 11:04:56,594 INFO sqlalchemy.engine.base.Engine select current_schema()\n",
      "2021-06-10 11:04:56,595 INFO sqlalchemy.engine.base.Engine {}\n",
      "2021-06-10 11:04:56,626 INFO sqlalchemy.engine.base.Engine SELECT CAST('test plain returns' AS VARCHAR(60)) AS anon_1\n",
      "2021-06-10 11:04:56,627 INFO sqlalchemy.engine.base.Engine {}\n",
      "2021-06-10 11:04:56,643 INFO sqlalchemy.engine.base.Engine SELECT CAST('test unicode returns' AS VARCHAR(60)) AS anon_1\n",
      "2021-06-10 11:04:56,643 INFO sqlalchemy.engine.base.Engine {}\n",
      "2021-06-10 11:04:56,659 INFO sqlalchemy.engine.base.Engine show standard_conforming_strings\n",
      "2021-06-10 11:04:56,659 INFO sqlalchemy.engine.base.Engine {}\n",
      "2021-06-10 11:04:56,693 INFO sqlalchemy.engine.base.Engine select relname from pg_class c join pg_namespace n on n.oid=c.relnamespace where pg_catalog.pg_table_is_visible(c.oid) and relname=%(name)s\n",
      "2021-06-10 11:04:56,694 INFO sqlalchemy.engine.base.Engine {'name': 'new_orders'}\n",
      "2021-06-10 11:04:56,742 INFO sqlalchemy.engine.base.Engine select relname from pg_class c join pg_namespace n on n.oid=c.relnamespace where pg_catalog.pg_table_is_visible(c.oid) and relname=%(name)s\n",
      "2021-06-10 11:04:56,743 INFO sqlalchemy.engine.base.Engine {'name': 'new_orders'}\n",
      "2021-06-10 11:04:56,791 INFO sqlalchemy.engine.base.Engine SELECT c.relname FROM pg_class c JOIN pg_namespace n ON n.oid = c.relnamespace WHERE n.nspname = %(schema)s AND c.relkind in ('r', 'p')\n",
      "2021-06-10 11:04:56,793 INFO sqlalchemy.engine.base.Engine {'schema': 'public'}\n",
      "2021-06-10 11:04:56,827 INFO sqlalchemy.engine.base.Engine \n",
      "            SELECT c.oid\n",
      "            FROM pg_catalog.pg_class c\n",
      "            LEFT JOIN pg_catalog.pg_namespace n ON n.oid = c.relnamespace\n",
      "            WHERE (pg_catalog.pg_table_is_visible(c.oid))\n",
      "            AND c.relname = %(table_name)s AND c.relkind in\n",
      "            ('r', 'v', 'm', 'f', 'p')\n",
      "        \n",
      "2021-06-10 11:04:56,828 INFO sqlalchemy.engine.base.Engine {'table_name': 'new_orders'}\n",
      "2021-06-10 11:04:56,844 INFO sqlalchemy.engine.base.Engine \n",
      "            SELECT a.attname,\n",
      "              pg_catalog.format_type(a.atttypid, a.atttypmod),\n",
      "              (SELECT pg_catalog.pg_get_expr(d.adbin, d.adrelid)\n",
      "                FROM pg_catalog.pg_attrdef d\n",
      "               WHERE d.adrelid = a.attrelid AND d.adnum = a.attnum\n",
      "               AND a.atthasdef)\n",
      "              AS DEFAULT,\n",
      "              a.attnotnull, a.attnum, a.attrelid as table_oid,\n",
      "              pgd.description as comment,\n",
      "              a.attgenerated as generated\n",
      "            FROM pg_catalog.pg_attribute a\n",
      "            LEFT JOIN pg_catalog.pg_description pgd ON (\n",
      "                pgd.objoid = a.attrelid AND pgd.objsubid = a.attnum)\n",
      "            WHERE a.attrelid = %(table_oid)s\n",
      "            AND a.attnum > 0 AND NOT a.attisdropped\n",
      "            ORDER BY a.attnum\n",
      "        \n",
      "2021-06-10 11:04:56,845 INFO sqlalchemy.engine.base.Engine {'table_oid': 17543}\n",
      "2021-06-10 11:04:56,863 INFO sqlalchemy.engine.base.Engine \n",
      "            SELECT t.typname as \"name\",\n",
      "               pg_catalog.format_type(t.typbasetype, t.typtypmod) as \"attype\",\n",
      "               not t.typnotnull as \"nullable\",\n",
      "               t.typdefault as \"default\",\n",
      "               pg_catalog.pg_type_is_visible(t.oid) as \"visible\",\n",
      "               n.nspname as \"schema\"\n",
      "            FROM pg_catalog.pg_type t\n",
      "               LEFT JOIN pg_catalog.pg_namespace n ON n.oid = t.typnamespace\n",
      "            WHERE t.typtype = 'd'\n",
      "        \n",
      "2021-06-10 11:04:56,864 INFO sqlalchemy.engine.base.Engine {}\n",
      "2021-06-10 11:04:56,881 INFO sqlalchemy.engine.base.Engine \n",
      "            SELECT t.typname as \"name\",\n",
      "               -- no enum defaults in 8.4 at least\n",
      "               -- t.typdefault as \"default\",\n",
      "               pg_catalog.pg_type_is_visible(t.oid) as \"visible\",\n",
      "               n.nspname as \"schema\",\n",
      "               e.enumlabel as \"label\"\n",
      "            FROM pg_catalog.pg_type t\n",
      "                 LEFT JOIN pg_catalog.pg_namespace n ON n.oid = t.typnamespace\n",
      "                 LEFT JOIN pg_catalog.pg_enum e ON t.oid = e.enumtypid\n",
      "            WHERE t.typtype = 'e'\n",
      "        ORDER BY \"schema\", \"name\", e.oid\n",
      "2021-06-10 11:04:56,881 INFO sqlalchemy.engine.base.Engine {}\n",
      "2021-06-10 11:04:56,899 INFO sqlalchemy.engine.base.Engine \n",
      "                SELECT a.attname\n",
      "                FROM pg_attribute a JOIN (\n",
      "                    SELECT unnest(ix.indkey) attnum,\n",
      "                           generate_subscripts(ix.indkey, 1) ord\n",
      "                    FROM pg_index ix\n",
      "                    WHERE ix.indrelid = %(table_oid)s AND ix.indisprimary\n",
      "                    ) k ON a.attnum=k.attnum\n",
      "                WHERE a.attrelid = %(table_oid)s\n",
      "                ORDER BY k.ord\n",
      "            \n",
      "2021-06-10 11:04:56,900 INFO sqlalchemy.engine.base.Engine {'table_oid': 17543}\n",
      "2021-06-10 11:04:56,918 INFO sqlalchemy.engine.base.Engine \n",
      "        SELECT conname\n",
      "           FROM  pg_catalog.pg_constraint r\n",
      "           WHERE r.conrelid = %(table_oid)s AND r.contype = 'p'\n",
      "           ORDER BY 1\n",
      "        \n",
      "2021-06-10 11:04:56,919 INFO sqlalchemy.engine.base.Engine {'table_oid': 17543}\n",
      "2021-06-10 11:04:56,934 INFO sqlalchemy.engine.base.Engine \n",
      "          SELECT r.conname,\n",
      "                pg_catalog.pg_get_constraintdef(r.oid, true) as condef,\n",
      "                n.nspname as conschema\n",
      "          FROM  pg_catalog.pg_constraint r,\n",
      "                pg_namespace n,\n",
      "                pg_class c\n",
      "\n",
      "          WHERE r.conrelid = %(table)s AND\n",
      "                r.contype = 'f' AND\n",
      "                c.oid = confrelid AND\n",
      "                n.oid = c.relnamespace\n",
      "          ORDER BY 1\n",
      "        \n",
      "2021-06-10 11:04:56,935 INFO sqlalchemy.engine.base.Engine {'table': 17543}\n",
      "2021-06-10 11:04:56,951 INFO sqlalchemy.engine.base.Engine \n",
      "              SELECT\n",
      "                  i.relname as relname,\n",
      "                  ix.indisunique, ix.indexprs, ix.indpred,\n",
      "                  a.attname, a.attnum, c.conrelid, ix.indkey::varchar,\n",
      "                  ix.indoption::varchar, i.reloptions, am.amname,\n",
      "                  ix.indnkeyatts as indnkeyatts\n",
      "              FROM\n",
      "                  pg_class t\n",
      "                        join pg_index ix on t.oid = ix.indrelid\n",
      "                        join pg_class i on i.oid = ix.indexrelid\n",
      "                        left outer join\n",
      "                            pg_attribute a\n",
      "                            on t.oid = a.attrelid and a.attnum = ANY(ix.indkey)\n",
      "                        left outer join\n",
      "                            pg_constraint c\n",
      "                            on (ix.indrelid = c.conrelid and\n",
      "                                ix.indexrelid = c.conindid and\n",
      "                                c.contype in ('p', 'u', 'x'))\n",
      "                        left outer join\n",
      "                            pg_am am\n",
      "                            on i.relam = am.oid\n",
      "              WHERE\n",
      "                  t.relkind IN ('r', 'v', 'f', 'm', 'p')\n",
      "                  and t.oid = %(table_oid)s\n",
      "                  and ix.indisprimary = 'f'\n",
      "              ORDER BY\n",
      "                  t.relname,\n",
      "                  i.relname\n",
      "            \n",
      "2021-06-10 11:04:56,952 INFO sqlalchemy.engine.base.Engine {'table_oid': 17543}\n",
      "2021-06-10 11:04:56,969 INFO sqlalchemy.engine.base.Engine \n",
      "            SELECT\n",
      "                cons.conname as name,\n",
      "                cons.conkey as key,\n",
      "                a.attnum as col_num,\n",
      "                a.attname as col_name\n",
      "            FROM\n",
      "                pg_catalog.pg_constraint cons\n",
      "                join pg_attribute a\n",
      "                  on cons.conrelid = a.attrelid AND\n",
      "                    a.attnum = ANY(cons.conkey)\n",
      "            WHERE\n",
      "                cons.conrelid = %(table_oid)s AND\n",
      "                cons.contype = 'u'\n",
      "        \n",
      "2021-06-10 11:04:56,970 INFO sqlalchemy.engine.base.Engine {'table_oid': 17543}\n",
      "2021-06-10 11:04:56,987 INFO sqlalchemy.engine.base.Engine \n",
      "            SELECT\n",
      "                cons.conname as name,\n",
      "                pg_get_constraintdef(cons.oid) as src\n",
      "            FROM\n",
      "                pg_catalog.pg_constraint cons\n",
      "            WHERE\n",
      "                cons.conrelid = %(table_oid)s AND\n",
      "                cons.contype = 'c'\n",
      "        \n",
      "2021-06-10 11:04:56,987 INFO sqlalchemy.engine.base.Engine {'table_oid': 17543}\n",
      "2021-06-10 11:04:57,003 INFO sqlalchemy.engine.base.Engine \n",
      "            SELECT\n",
      "                pgd.description as table_comment\n",
      "            FROM\n",
      "                pg_catalog.pg_description pgd\n",
      "            WHERE\n",
      "                pgd.objsubid = 0 AND\n",
      "                pgd.objoid = %(table_oid)s\n",
      "        \n",
      "2021-06-10 11:04:57,004 INFO sqlalchemy.engine.base.Engine {'table_oid': 17543}\n",
      "2021-06-10 11:04:57,034 INFO sqlalchemy.engine.base.Engine \n",
      "DROP TABLE new_orders\n",
      "2021-06-10 11:04:57,035 INFO sqlalchemy.engine.base.Engine {}\n",
      "2021-06-10 11:04:57,065 INFO sqlalchemy.engine.base.Engine COMMIT\n",
      "2021-06-10 11:04:57,085 INFO sqlalchemy.engine.base.Engine \n",
      "CREATE TABLE new_orders (\n",
      "\tindex BIGINT, \n",
      "\torderid BIGINT, \n",
      "\tcustomerid VARCHAR(10), \n",
      "\temployeeid BIGINT, \n",
      "\torderdate TEXT, \n",
      "\trequireddate TEXT, \n",
      "\tshippeddate TEXT, \n",
      "\tshipvia BIGINT, \n",
      "\tfreight FLOAT(53), \n",
      "\tshipname TEXT, \n",
      "\tshipaddress TEXT, \n",
      "\tshipcity TEXT, \n",
      "\tshipregion TEXT, \n",
      "\tshippostalcode TEXT, \n",
      "\tshipcountry TEXT\n",
      ")\n",
      "\n",
      "\n",
      "2021-06-10 11:04:57,086 INFO sqlalchemy.engine.base.Engine {}\n",
      "2021-06-10 11:04:57,122 INFO sqlalchemy.engine.base.Engine COMMIT\n",
      "2021-06-10 11:04:57,140 INFO sqlalchemy.engine.base.Engine CREATE INDEX ix_new_orders_index ON new_orders (index)\n",
      "2021-06-10 11:04:57,141 INFO sqlalchemy.engine.base.Engine {}\n",
      "2021-06-10 11:04:57,174 INFO sqlalchemy.engine.base.Engine COMMIT\n",
      "2021-06-10 11:04:57,192 INFO sqlalchemy.engine.base.Engine BEGIN (implicit)\n",
      "2021-06-10 11:04:57,203 INFO sqlalchemy.engine.base.Engine INSERT INTO new_orders (index, orderid, customerid, employeeid, orderdate, requireddate, shippeddate, shipvia, freight, shipname, shipaddress, shipcity, shipregion, shippostalcode, shipcountry) VALUES (%(index)s, %(orderid)s, %(customerid)s, %(employeeid)s, %(orderdate)s, %(requireddate)s, %(shippeddate)s, %(shipvia)s, %(freight)s, %(shipname)s, %(shipaddress)s, %(shipcity)s, %(shipregion)s, %(shippostalcode)s, %(shipcountry)s)\n",
      "2021-06-10 11:04:57,203 INFO sqlalchemy.engine.base.Engine ({'index': 0, 'orderid': 10248, 'customerid': 'VINET', 'employeeid': 5, 'orderdate': '1996-07-04', 'requireddate': '1996-08-01', 'shippeddate': '1996-07-16', 'shipvia': 3, 'freight': 32.38, 'shipname': 'Vins et alcools Chevalier', 'shipaddress': \"59 rue de l'Abbaye\", 'shipcity': 'Reims', 'shipregion': None, 'shippostalcode': '51100', 'shipcountry': 'France'}, {'index': 1, 'orderid': 10249, 'customerid': 'TOMSP', 'employeeid': 6, 'orderdate': '1996-07-05', 'requireddate': '1996-08-16', 'shippeddate': '1996-07-10', 'shipvia': 1, 'freight': 11.61, 'shipname': 'Toms Spezialitäten', 'shipaddress': 'Luisenstr. 48', 'shipcity': 'Münster', 'shipregion': None, 'shippostalcode': '44087', 'shipcountry': 'Germany'}, {'index': 2, 'orderid': 10250, 'customerid': 'HANAR', 'employeeid': 4, 'orderdate': '1996-07-08', 'requireddate': '1996-08-05', 'shippeddate': '1996-07-12', 'shipvia': 2, 'freight': 65.83, 'shipname': 'Hanari Carnes', 'shipaddress': 'Rua do Paço 67', 'shipcity': 'Rio de Janeiro', 'shipregion': 'RJ', 'shippostalcode': '05454-876', 'shipcountry': 'Brazil'}, {'index': 3, 'orderid': 10251, 'customerid': 'VICTE', 'employeeid': 3, 'orderdate': '1996-07-08', 'requireddate': '1996-08-05', 'shippeddate': '1996-07-15', 'shipvia': 1, 'freight': 41.34, 'shipname': 'Victuailles en stock', 'shipaddress': '2 rue du Commerce', 'shipcity': 'Lyon', 'shipregion': None, 'shippostalcode': '69004', 'shipcountry': 'France'}, {'index': 4, 'orderid': 10252, 'customerid': 'SUPRD', 'employeeid': 4, 'orderdate': '1996-07-09', 'requireddate': '1996-08-06', 'shippeddate': '1996-07-11', 'shipvia': 2, 'freight': 51.3, 'shipname': 'Suprêmes délices', 'shipaddress': 'Boulevard Tirou 255', 'shipcity': 'Charleroi', 'shipregion': None, 'shippostalcode': 'B-6000', 'shipcountry': 'Belgium'}, {'index': 5, 'orderid': 10253, 'customerid': 'HANAR', 'employeeid': 3, 'orderdate': '1996-07-10', 'requireddate': '1996-07-24', 'shippeddate': '1996-07-16', 'shipvia': 2, 'freight': 58.17, 'shipname': 'Hanari Carnes', 'shipaddress': 'Rua do Paço 67', 'shipcity': 'Rio de Janeiro', 'shipregion': 'RJ', 'shippostalcode': '05454-876', 'shipcountry': 'Brazil'}, {'index': 6, 'orderid': 10254, 'customerid': 'CHOPS', 'employeeid': 5, 'orderdate': '1996-07-11', 'requireddate': '1996-08-08', 'shippeddate': '1996-07-23', 'shipvia': 2, 'freight': 22.98, 'shipname': 'Chop-suey Chinese', 'shipaddress': 'Hauptstr. 31', 'shipcity': 'Bern', 'shipregion': None, 'shippostalcode': '3012', 'shipcountry': 'Switzerland'}, {'index': 7, 'orderid': 10255, 'customerid': 'RICSU', 'employeeid': 9, 'orderdate': '1996-07-12', 'requireddate': '1996-08-09', 'shippeddate': '1996-07-15', 'shipvia': 3, 'freight': 148.33, 'shipname': 'Richter Supermarkt', 'shipaddress': 'Starenweg 5', 'shipcity': 'Genève', 'shipregion': None, 'shippostalcode': '1204', 'shipcountry': 'Switzerland'}  ... displaying 10 of 830 total bound parameter sets ...  {'index': 828, 'orderid': 11076, 'customerid': 'BONAP', 'employeeid': 4, 'orderdate': '1998-05-06', 'requireddate': '1998-06-03', 'shippeddate': None, 'shipvia': 2, 'freight': 38.28, 'shipname': \"Bon app'\", 'shipaddress': '12 rue des Bouchers', 'shipcity': 'Marseille', 'shipregion': None, 'shippostalcode': '13008', 'shipcountry': 'France'}, {'index': 829, 'orderid': 11077, 'customerid': 'RATTC', 'employeeid': 1, 'orderdate': '1998-05-06', 'requireddate': '1998-06-03', 'shippeddate': None, 'shipvia': 2, 'freight': 8.53, 'shipname': 'Rattlesnake Canyon Grocery', 'shipaddress': '2817 Milton Dr.', 'shipcity': 'Albuquerque', 'shipregion': 'NM', 'shippostalcode': '87110', 'shipcountry': 'USA'})\n",
      "2021-06-10 11:05:10,720 INFO sqlalchemy.engine.base.Engine COMMIT\n"
     ]
    }
   ],
   "source": [
    "df.to_sql('new_orders', conn, if_exists='replace', dtype={'customerid':VARCHAR(length=10)})"
   ]
  },
  {
   "cell_type": "code",
   "execution_count": null,
   "metadata": {},
   "outputs": [],
   "source": []
  }
 ],
 "metadata": {
  "kernelspec": {
   "display_name": "Python 3",
   "language": "python",
   "name": "python3"
  },
  "language_info": {
   "codemirror_mode": {
    "name": "ipython",
    "version": 3
   },
   "file_extension": ".py",
   "mimetype": "text/x-python",
   "name": "python",
   "nbconvert_exporter": "python",
   "pygments_lexer": "ipython3",
   "version": "3.8.5"
  }
 },
 "nbformat": 4,
 "nbformat_minor": 4
}
