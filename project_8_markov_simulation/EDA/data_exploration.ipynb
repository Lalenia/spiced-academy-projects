{
 "cells": [
  {
   "cell_type": "markdown",
   "metadata": {},
   "source": [
    "## Use Case\n",
    "\n",
    "At the DOODL Supermarket chain we would like to understand our customers better in order to optimize the layout, staffing and service of our supermarkets. \n",
    "Main business goals are:\n",
    "\n",
    "1. Understand customer behavior.\n",
    "\n",
    "2. Explain customer behavior to our non-data staff.\n",
    "\n",
    "3. Optimize staffing so that the queues do not get unnecessary long.\n"
   ]
  },
  {
   "cell_type": "markdown",
   "metadata": {},
   "source": [
    "\n",
    "\n",
    "## Bussiness Goal:\n",
    "\n",
    " Our sales department is interested in a summary of the collected data. Please generate a report including numbers and diagrams. Note that your audience are not data scientists, so take care to prepare insights that are as clear as possible. We are interested in the following:\n",
    "\n",
    "1. Calculate the total number of customers in each section\n",
    "\n",
    "2. Calculate the total number of customers in each section over time\n",
    "\n",
    "3. Display the number of customers at checkout over time\n",
    "\n",
    "4. Calculate the time each customer spent in the market\n",
    "\n",
    "5. Calculate the total number of customers in the supermarket over time.\n",
    "\n",
    "6. Our business managers think that the first section customers visit follows a different pattern than the following ones. Plot the distribution of customers of their first visited section versus following sections (treat all sections visited after the first as “following”)."
   ]
  },
  {
   "cell_type": "code",
   "execution_count": 20,
   "metadata": {},
   "outputs": [],
   "source": [
    "import pandas as pd\n",
    "import seaborn as sns\n",
    "import matplotlib.pyplot as plt\n",
    "import numpy as np\n",
    "import mesh\n",
    "\n",
    "plt.rcParams['figure.figsize'] = (14,6)\n",
    "%load_ext pycodestyle_magic"
   ]
  },
  {
   "cell_type": "code",
   "execution_count": 21,
   "metadata": {},
   "outputs": [],
   "source": [
    "#Thanks Ana for the tip!\n",
    "pip install pycodestyle_magic"
   ]
  },
  {
   "cell_type": "markdown",
   "metadata": {},
   "source": [
    "### Data Exploration"
   ]
  },
  {
   "cell_type": "markdown",
   "metadata": {},
   "source": [
    "#### Create a dataframe with all the weekdays."
   ]
  },
  {
   "cell_type": "code",
   "execution_count": 23,
   "metadata": {},
   "outputs": [],
   "source": [
    "monday = pd.read_csv(\"data/monday.csv\", sep=\";\")\n",
    "tuesday = pd.read_csv(\"data/tuesday.csv\", sep=\";\")\n",
    "wednesday = pd.read_csv(\"data/wednesday.csv\", sep=\";\")\n",
    "thursday = pd.read_csv(\"data/thursday.csv\", sep=\";\")\n",
    "friday = pd.read_csv(\"data/friday.csv\", sep=\";\")\n",
    "\n",
    "all_days = [monday, tuesday, wednesday, thursday, friday]\n",
    "\n",
    "for weekday in all_days:\n",
    "    weekday['timestamp'] = pd.to_datetime(weekday['timestamp'])\n",
    "    weekday['hour'] = weekday['timestamp'].dt.hour\n",
    "    all_customers = set(weekday.customer_no.values)\n",
    "    checked_out_customers = set(weekday[weekday[\"location\"] == \"checkout\"].customer_no.values)\n",
    "    non_checked_out_customers = list(all_customers.difference(checked_out_customers))\n",
    "    day = weekday[~weekday.loc[:, \"customer_no\"].isin(non_checked_out_customers)]\n",
    "\n",
    "monday[\"day\"] = \"monday\"\n",
    "tuesday[\"day\"] = \"tuesday\"\n",
    "wednesday[\"day\"] = \"wednesday\"\n",
    "thursday[\"day\"] = \"thursday\"\n",
    "friday[\"day\"] = \"friday\"\n",
    "\n",
    "# combine the DataFrames\n",
    "weekdays = monday.append(tuesday.append(wednesday.append(thursday.append(friday))))\n",
    "#Change the customers_id's"
   ]
  },
  {
   "cell_type": "code",
   "execution_count": 2,
   "metadata": {},
   "outputs": [],
   "source": [
    "weekdays[\"customer_no\"] = weekdays[\"customer_no\"].astype(str) + \"_\" + weekdays[\"day\"]"
   ]
  },
  {
   "cell_type": "code",
   "execution_count": 3,
   "metadata": {},
   "outputs": [
    {
     "data": {
      "text/html": [
       "<div>\n",
       "<style scoped>\n",
       "    .dataframe tbody tr th:only-of-type {\n",
       "        vertical-align: middle;\n",
       "    }\n",
       "\n",
       "    .dataframe tbody tr th {\n",
       "        vertical-align: top;\n",
       "    }\n",
       "\n",
       "    .dataframe thead th {\n",
       "        text-align: right;\n",
       "    }\n",
       "</style>\n",
       "<table border=\"1\" class=\"dataframe\">\n",
       "  <thead>\n",
       "    <tr style=\"text-align: right;\">\n",
       "      <th></th>\n",
       "      <th>timestamp</th>\n",
       "      <th>customer_no</th>\n",
       "      <th>location</th>\n",
       "      <th>hour</th>\n",
       "      <th>day</th>\n",
       "    </tr>\n",
       "  </thead>\n",
       "  <tbody>\n",
       "    <tr>\n",
       "      <th>0</th>\n",
       "      <td>2019-09-02 07:03:00</td>\n",
       "      <td>1_monday</td>\n",
       "      <td>dairy</td>\n",
       "      <td>7</td>\n",
       "      <td>monday</td>\n",
       "    </tr>\n",
       "    <tr>\n",
       "      <th>1</th>\n",
       "      <td>2019-09-02 07:03:00</td>\n",
       "      <td>2_monday</td>\n",
       "      <td>dairy</td>\n",
       "      <td>7</td>\n",
       "      <td>monday</td>\n",
       "    </tr>\n",
       "    <tr>\n",
       "      <th>2</th>\n",
       "      <td>2019-09-02 07:04:00</td>\n",
       "      <td>3_monday</td>\n",
       "      <td>dairy</td>\n",
       "      <td>7</td>\n",
       "      <td>monday</td>\n",
       "    </tr>\n",
       "    <tr>\n",
       "      <th>3</th>\n",
       "      <td>2019-09-02 07:04:00</td>\n",
       "      <td>4_monday</td>\n",
       "      <td>dairy</td>\n",
       "      <td>7</td>\n",
       "      <td>monday</td>\n",
       "    </tr>\n",
       "    <tr>\n",
       "      <th>4</th>\n",
       "      <td>2019-09-02 07:04:00</td>\n",
       "      <td>5_monday</td>\n",
       "      <td>spices</td>\n",
       "      <td>7</td>\n",
       "      <td>monday</td>\n",
       "    </tr>\n",
       "    <tr>\n",
       "      <th>...</th>\n",
       "      <td>...</td>\n",
       "      <td>...</td>\n",
       "      <td>...</td>\n",
       "      <td>...</td>\n",
       "      <td>...</td>\n",
       "    </tr>\n",
       "    <tr>\n",
       "      <th>5120</th>\n",
       "      <td>2019-09-06 21:50:00</td>\n",
       "      <td>1500_friday</td>\n",
       "      <td>dairy</td>\n",
       "      <td>21</td>\n",
       "      <td>friday</td>\n",
       "    </tr>\n",
       "    <tr>\n",
       "      <th>5121</th>\n",
       "      <td>2019-09-06 21:50:00</td>\n",
       "      <td>1507_friday</td>\n",
       "      <td>checkout</td>\n",
       "      <td>21</td>\n",
       "      <td>friday</td>\n",
       "    </tr>\n",
       "    <tr>\n",
       "      <th>5122</th>\n",
       "      <td>2019-09-06 21:50:00</td>\n",
       "      <td>1508_friday</td>\n",
       "      <td>checkout</td>\n",
       "      <td>21</td>\n",
       "      <td>friday</td>\n",
       "    </tr>\n",
       "    <tr>\n",
       "      <th>5123</th>\n",
       "      <td>2019-09-06 21:50:00</td>\n",
       "      <td>1509_friday</td>\n",
       "      <td>drinks</td>\n",
       "      <td>21</td>\n",
       "      <td>friday</td>\n",
       "    </tr>\n",
       "    <tr>\n",
       "      <th>5124</th>\n",
       "      <td>2019-09-06 21:50:00</td>\n",
       "      <td>1510_friday</td>\n",
       "      <td>spices</td>\n",
       "      <td>21</td>\n",
       "      <td>friday</td>\n",
       "    </tr>\n",
       "  </tbody>\n",
       "</table>\n",
       "<p>24877 rows × 5 columns</p>\n",
       "</div>"
      ],
      "text/plain": [
       "               timestamp  customer_no  location  hour     day\n",
       "0    2019-09-02 07:03:00     1_monday     dairy     7  monday\n",
       "1    2019-09-02 07:03:00     2_monday     dairy     7  monday\n",
       "2    2019-09-02 07:04:00     3_monday     dairy     7  monday\n",
       "3    2019-09-02 07:04:00     4_monday     dairy     7  monday\n",
       "4    2019-09-02 07:04:00     5_monday    spices     7  monday\n",
       "...                  ...          ...       ...   ...     ...\n",
       "5120 2019-09-06 21:50:00  1500_friday     dairy    21  friday\n",
       "5121 2019-09-06 21:50:00  1507_friday  checkout    21  friday\n",
       "5122 2019-09-06 21:50:00  1508_friday  checkout    21  friday\n",
       "5123 2019-09-06 21:50:00  1509_friday    drinks    21  friday\n",
       "5124 2019-09-06 21:50:00  1510_friday    spices    21  friday\n",
       "\n",
       "[24877 rows x 5 columns]"
      ]
     },
     "execution_count": 3,
     "metadata": {},
     "output_type": "execute_result"
    }
   ],
   "source": [
    "weekdays"
   ]
  },
  {
   "cell_type": "code",
   "execution_count": 4,
   "metadata": {},
   "outputs": [],
   "source": [
    "#weekdays['minute'] = weekdays.index.minute"
   ]
  },
  {
   "cell_type": "markdown",
   "metadata": {},
   "source": [
    "### 1. Total number of customers in each section"
   ]
  },
  {
   "cell_type": "code",
   "execution_count": 5,
   "metadata": {},
   "outputs": [
    {
     "data": {
      "text/html": [
       "<div>\n",
       "<style scoped>\n",
       "    .dataframe tbody tr th:only-of-type {\n",
       "        vertical-align: middle;\n",
       "    }\n",
       "\n",
       "    .dataframe tbody tr th {\n",
       "        vertical-align: top;\n",
       "    }\n",
       "\n",
       "    .dataframe thead th {\n",
       "        text-align: right;\n",
       "    }\n",
       "</style>\n",
       "<table border=\"1\" class=\"dataframe\">\n",
       "  <thead>\n",
       "    <tr style=\"text-align: right;\">\n",
       "      <th></th>\n",
       "      <th>location</th>\n",
       "    </tr>\n",
       "  </thead>\n",
       "  <tbody>\n",
       "    <tr>\n",
       "      <th>checkout</th>\n",
       "      <td>7417</td>\n",
       "    </tr>\n",
       "    <tr>\n",
       "      <th>fruit</th>\n",
       "      <td>5122</td>\n",
       "    </tr>\n",
       "    <tr>\n",
       "      <th>dairy</th>\n",
       "      <td>4679</td>\n",
       "    </tr>\n",
       "    <tr>\n",
       "      <th>drinks</th>\n",
       "      <td>3905</td>\n",
       "    </tr>\n",
       "    <tr>\n",
       "      <th>spices</th>\n",
       "      <td>3754</td>\n",
       "    </tr>\n",
       "  </tbody>\n",
       "</table>\n",
       "</div>"
      ],
      "text/plain": [
       "          location\n",
       "checkout      7417\n",
       "fruit         5122\n",
       "dairy         4679\n",
       "drinks        3905\n",
       "spices        3754"
      ]
     },
     "execution_count": 5,
     "metadata": {},
     "output_type": "execute_result"
    }
   ],
   "source": [
    "customers_in_each_section = weekdays[\"location\"].value_counts().to_frame()\n",
    "customers_in_each_section"
   ]
  },
  {
   "cell_type": "code",
   "execution_count": 6,
   "metadata": {},
   "outputs": [
    {
     "data": {
      "text/html": [
       "<div>\n",
       "<style scoped>\n",
       "    .dataframe tbody tr th:only-of-type {\n",
       "        vertical-align: middle;\n",
       "    }\n",
       "\n",
       "    .dataframe tbody tr th {\n",
       "        vertical-align: top;\n",
       "    }\n",
       "\n",
       "    .dataframe thead th {\n",
       "        text-align: right;\n",
       "    }\n",
       "</style>\n",
       "<table border=\"1\" class=\"dataframe\">\n",
       "  <thead>\n",
       "    <tr style=\"text-align: right;\">\n",
       "      <th></th>\n",
       "      <th></th>\n",
       "      <th>location</th>\n",
       "    </tr>\n",
       "    <tr>\n",
       "      <th>day</th>\n",
       "      <th>location</th>\n",
       "      <th></th>\n",
       "    </tr>\n",
       "  </thead>\n",
       "  <tbody>\n",
       "    <tr>\n",
       "      <th rowspan=\"5\" valign=\"top\">friday</th>\n",
       "      <th>checkout</th>\n",
       "      <td>1502</td>\n",
       "    </tr>\n",
       "    <tr>\n",
       "      <th>fruit</th>\n",
       "      <td>1057</td>\n",
       "    </tr>\n",
       "    <tr>\n",
       "      <th>dairy</th>\n",
       "      <td>932</td>\n",
       "    </tr>\n",
       "    <tr>\n",
       "      <th>drinks</th>\n",
       "      <td>844</td>\n",
       "    </tr>\n",
       "    <tr>\n",
       "      <th>spices</th>\n",
       "      <td>790</td>\n",
       "    </tr>\n",
       "    <tr>\n",
       "      <th rowspan=\"5\" valign=\"top\">monday</th>\n",
       "      <th>checkout</th>\n",
       "      <td>1437</td>\n",
       "    </tr>\n",
       "    <tr>\n",
       "      <th>fruit</th>\n",
       "      <td>1005</td>\n",
       "    </tr>\n",
       "    <tr>\n",
       "      <th>dairy</th>\n",
       "      <td>895</td>\n",
       "    </tr>\n",
       "    <tr>\n",
       "      <th>drinks</th>\n",
       "      <td>797</td>\n",
       "    </tr>\n",
       "    <tr>\n",
       "      <th>spices</th>\n",
       "      <td>750</td>\n",
       "    </tr>\n",
       "    <tr>\n",
       "      <th rowspan=\"5\" valign=\"top\">thursday</th>\n",
       "      <th>checkout</th>\n",
       "      <td>1532</td>\n",
       "    </tr>\n",
       "    <tr>\n",
       "      <th>fruit</th>\n",
       "      <td>1041</td>\n",
       "    </tr>\n",
       "    <tr>\n",
       "      <th>dairy</th>\n",
       "      <td>965</td>\n",
       "    </tr>\n",
       "    <tr>\n",
       "      <th>spices</th>\n",
       "      <td>790</td>\n",
       "    </tr>\n",
       "    <tr>\n",
       "      <th>drinks</th>\n",
       "      <td>776</td>\n",
       "    </tr>\n",
       "    <tr>\n",
       "      <th rowspan=\"5\" valign=\"top\">tuesday</th>\n",
       "      <th>checkout</th>\n",
       "      <td>1420</td>\n",
       "    </tr>\n",
       "    <tr>\n",
       "      <th>fruit</th>\n",
       "      <td>976</td>\n",
       "    </tr>\n",
       "    <tr>\n",
       "      <th>dairy</th>\n",
       "      <td>911</td>\n",
       "    </tr>\n",
       "    <tr>\n",
       "      <th>drinks</th>\n",
       "      <td>713</td>\n",
       "    </tr>\n",
       "    <tr>\n",
       "      <th>spices</th>\n",
       "      <td>694</td>\n",
       "    </tr>\n",
       "    <tr>\n",
       "      <th rowspan=\"5\" valign=\"top\">wednesday</th>\n",
       "      <th>checkout</th>\n",
       "      <td>1526</td>\n",
       "    </tr>\n",
       "    <tr>\n",
       "      <th>fruit</th>\n",
       "      <td>1043</td>\n",
       "    </tr>\n",
       "    <tr>\n",
       "      <th>dairy</th>\n",
       "      <td>976</td>\n",
       "    </tr>\n",
       "    <tr>\n",
       "      <th>drinks</th>\n",
       "      <td>775</td>\n",
       "    </tr>\n",
       "    <tr>\n",
       "      <th>spices</th>\n",
       "      <td>730</td>\n",
       "    </tr>\n",
       "  </tbody>\n",
       "</table>\n",
       "</div>"
      ],
      "text/plain": [
       "                    location\n",
       "day       location          \n",
       "friday    checkout      1502\n",
       "          fruit         1057\n",
       "          dairy          932\n",
       "          drinks         844\n",
       "          spices         790\n",
       "monday    checkout      1437\n",
       "          fruit         1005\n",
       "          dairy          895\n",
       "          drinks         797\n",
       "          spices         750\n",
       "thursday  checkout      1532\n",
       "          fruit         1041\n",
       "          dairy          965\n",
       "          spices         790\n",
       "          drinks         776\n",
       "tuesday   checkout      1420\n",
       "          fruit          976\n",
       "          dairy          911\n",
       "          drinks         713\n",
       "          spices         694\n",
       "wednesday checkout      1526\n",
       "          fruit         1043\n",
       "          dairy          976\n",
       "          drinks         775\n",
       "          spices         730"
      ]
     },
     "execution_count": 6,
     "metadata": {},
     "output_type": "execute_result"
    }
   ],
   "source": [
    "customers_in_each_section_day = weekdays.groupby([\"day\"])[\"location\"].value_counts().to_frame()\n",
    "customers_in_each_section_day"
   ]
  },
  {
   "cell_type": "markdown",
   "metadata": {},
   "source": [
    "#### Plot the total number of customers in each section."
   ]
  },
  {
   "cell_type": "code",
   "execution_count": 7,
   "metadata": {},
   "outputs": [
    {
     "data": {
      "text/plain": [
       "<AxesSubplot:title={'center':'Total Number of Customers in each Section'}>"
      ]
     },
     "execution_count": 7,
     "metadata": {},
     "output_type": "execute_result"
    },
    {
     "data": {
      "image/png": "[encoded data removed]",
      "text/plain": [
       "<Figure size 1080x720 with 1 Axes>"
      ]
     },
     "metadata": {
      "needs_background": "light"
     },
     "output_type": "display_data"
    }
   ],
   "source": [
    "customers_in_each_section.plot(kind='bar', figsize= (15, 10), use_index=True, title= \"Total Number of Customers in each Section\", fontsize= 15)"
   ]
  },
  {
   "cell_type": "code",
   "execution_count": 8,
   "metadata": {},
   "outputs": [
    {
     "data": {
      "text/plain": [
       "<AxesSubplot:title={'center':'Total Number of Customers in each Section'}, xlabel='day,location'>"
      ]
     },
     "execution_count": 8,
     "metadata": {},
     "output_type": "execute_result"
    },
    {
     "data": {
      "image/png": "[encoded data removed]",
      "text/plain": [
       "<Figure size 1080x720 with 1 Axes>"
      ]
     },
     "metadata": {
      "needs_background": "light"
     },
     "output_type": "display_data"
    }
   ],
   "source": [
    "customers_in_each_section_day.plot(kind='bar', figsize= (15, 10), use_index=True, title= \"Total Number of Customers in each Section\", fontsize= 15)"
   ]
  },
  {
   "cell_type": "code",
   "execution_count": 9,
   "metadata": {},
   "outputs": [
    {
     "data": {
      "text/plain": [
       "<AxesSubplot:xlabel='location', ylabel='count'>"
      ]
     },
     "execution_count": 9,
     "metadata": {},
     "output_type": "execute_result"
    },
    {
     "data": {
      "image/png": "[encoded data removed]",
      "text/plain": [
       "<Figure size 864x504 with 1 Axes>"
      ]
     },
     "metadata": {
      "needs_background": "light"
     },
     "output_type": "display_data"
    }
   ],
   "source": [
    "plt.figure(figsize=(12,7))           \n",
    "\n",
    "sns.countplot(x='location',data=weekdays)"
   ]
  },
  {
   "cell_type": "markdown",
   "metadata": {},
   "source": [
    "### 2. Total number of customers in each section over time"
   ]
  },
  {
   "cell_type": "code",
   "execution_count": 10,
   "metadata": {},
   "outputs": [
    {
     "data": {
      "text/html": [
       "<div>\n",
       "<style scoped>\n",
       "    .dataframe tbody tr th:only-of-type {\n",
       "        vertical-align: middle;\n",
       "    }\n",
       "\n",
       "    .dataframe tbody tr th {\n",
       "        vertical-align: top;\n",
       "    }\n",
       "\n",
       "    .dataframe thead th {\n",
       "        text-align: right;\n",
       "    }\n",
       "</style>\n",
       "<table border=\"1\" class=\"dataframe\">\n",
       "  <thead>\n",
       "    <tr style=\"text-align: right;\">\n",
       "      <th></th>\n",
       "      <th></th>\n",
       "      <th>customer_no</th>\n",
       "    </tr>\n",
       "    <tr>\n",
       "      <th>hour</th>\n",
       "      <th>location</th>\n",
       "      <th></th>\n",
       "    </tr>\n",
       "  </thead>\n",
       "  <tbody>\n",
       "    <tr>\n",
       "      <th rowspan=\"5\" valign=\"top\">7</th>\n",
       "      <th>checkout</th>\n",
       "      <td>454</td>\n",
       "    </tr>\n",
       "    <tr>\n",
       "      <th>dairy</th>\n",
       "      <td>275</td>\n",
       "    </tr>\n",
       "    <tr>\n",
       "      <th>drinks</th>\n",
       "      <td>278</td>\n",
       "    </tr>\n",
       "    <tr>\n",
       "      <th>fruit</th>\n",
       "      <td>299</td>\n",
       "    </tr>\n",
       "    <tr>\n",
       "      <th>spices</th>\n",
       "      <td>238</td>\n",
       "    </tr>\n",
       "    <tr>\n",
       "      <th>...</th>\n",
       "      <th>...</th>\n",
       "      <td>...</td>\n",
       "    </tr>\n",
       "    <tr>\n",
       "      <th rowspan=\"5\" valign=\"top\">21</th>\n",
       "      <th>checkout</th>\n",
       "      <td>305</td>\n",
       "    </tr>\n",
       "    <tr>\n",
       "      <th>dairy</th>\n",
       "      <td>151</td>\n",
       "    </tr>\n",
       "    <tr>\n",
       "      <th>drinks</th>\n",
       "      <td>180</td>\n",
       "    </tr>\n",
       "    <tr>\n",
       "      <th>fruit</th>\n",
       "      <td>173</td>\n",
       "    </tr>\n",
       "    <tr>\n",
       "      <th>spices</th>\n",
       "      <td>122</td>\n",
       "    </tr>\n",
       "  </tbody>\n",
       "</table>\n",
       "<p>75 rows × 1 columns</p>\n",
       "</div>"
      ],
      "text/plain": [
       "               customer_no\n",
       "hour location             \n",
       "7    checkout          454\n",
       "     dairy             275\n",
       "     drinks            278\n",
       "     fruit             299\n",
       "     spices            238\n",
       "...                    ...\n",
       "21   checkout          305\n",
       "     dairy             151\n",
       "     drinks            180\n",
       "     fruit             173\n",
       "     spices            122\n",
       "\n",
       "[75 rows x 1 columns]"
      ]
     },
     "execution_count": 10,
     "metadata": {},
     "output_type": "execute_result"
    }
   ],
   "source": [
    "tncesot = weekdays.groupby([\"hour\", \"location\"])[\"customer_no\"].count().to_frame()\n",
    "tncesot"
   ]
  },
  {
   "cell_type": "code",
   "execution_count": 17,
   "metadata": {},
   "outputs": [
    {
     "data": {
      "text/plain": [
       "0          1_monday\n",
       "1          2_monday\n",
       "2          3_monday\n",
       "3          4_monday\n",
       "4          5_monday\n",
       "           ...     \n",
       "5120    1500_friday\n",
       "5121    1507_friday\n",
       "5122    1508_friday\n",
       "5123    1509_friday\n",
       "5124    1510_friday\n",
       "Name: customer_no, Length: 24877, dtype: object"
      ]
     },
     "execution_count": 17,
     "metadata": {},
     "output_type": "execute_result"
    }
   ],
   "source": [
    "weekdays['customer_no']"
   ]
  },
  {
   "cell_type": "code",
   "execution_count": 24,
   "metadata": {},
   "outputs": [
    {
     "data": {
      "text/plain": [
       "[Text(0.5, 1.0, 'Total number of customers in each section over time'),\n",
       " Text(0, 0.5, 'Amount of customers'),\n",
       " Text(0.5, 0, 'Hours')]"
      ]
     },
     "execution_count": 24,
     "metadata": {},
     "output_type": "execute_result"
    },
    {
     "data": {
      "image/png": "[encoded data removed]",
      "text/plain": [
       "<Figure size 1296x576 with 1 Axes>"
      ]
     },
     "metadata": {
      "needs_background": "light"
     },
     "output_type": "display_data"
    }
   ],
   "source": [
    "fig,ax = plt.subplots(figsize=(18,8))\n",
    "sns.barplot(x='hour', y='customer_no', hue='location', data=weekdays, \n",
    "            alpha=0.6).set(title='Total number of customers in each section over time', \n",
    "            ylabel='Amount of customers', xlabel= 'Hours')"
   ]
  },
  {
   "cell_type": "code",
   "execution_count": 13,
   "metadata": {},
   "outputs": [
    {
     "data": {
      "text/plain": [
       "<AxesSubplot:xlabel='hour'>"
      ]
     },
     "execution_count": 13,
     "metadata": {},
     "output_type": "execute_result"
    },
    {
     "data": {
      "image/png": "[encoded data removed]",
      "text/plain": [
       "<Figure size 432x288 with 1 Axes>"
      ]
     },
     "metadata": {
      "needs_background": "light"
     },
     "output_type": "display_data"
    }
   ],
   "source": [
    "weekdays.groupby(['location','hour']).customer_no.count().unstack(0).plot.bar()"
   ]
  },
  {
   "cell_type": "code",
   "execution_count": 14,
   "metadata": {},
   "outputs": [
    {
     "data": {
      "text/plain": [
       "<function matplotlib.pyplot.show(close=None, block=None)>"
      ]
     },
     "execution_count": 14,
     "metadata": {},
     "output_type": "execute_result"
    },
    {
     "data": {
      "text/plain": [
       "<Figure size 1008x432 with 0 Axes>"
      ]
     },
     "metadata": {},
     "output_type": "display_data"
    },
    {
     "data": {
      "image/png": "[encoded data removed]",
      "text/plain": [
       "<Figure size 1088x216 with 5 Axes>"
      ]
     },
     "metadata": {
      "needs_background": "light"
     },
     "output_type": "display_data"
    }
   ],
   "source": [
    "plt.figure(figsize=(14,6))    \n",
    "grid = sns.FacetGrid(data=weekdays, col='location',  palette=['#FFAD11'] )   #plot the total number of customers in each section\n",
    "grid.map_dataframe(sns.countplot, 'hour')                                        \n",
    "grid.add_legend()                                                        #split the plots by locations\n",
    "plt.yscale(\"log\")\n",
    "grid.set_xlabels(\"Hour\")\n",
    "grid.set_ylabels(\"Amount of customers\")\n",
    "sns.despine()\n",
    "plt.show"
   ]
  },
  {
   "cell_type": "markdown",
   "metadata": {},
   "source": [
    "### 3. Number of customers at checkout over time"
   ]
  },
  {
   "cell_type": "code",
   "execution_count": 25,
   "metadata": {},
   "outputs": [
    {
     "data": {
      "text/plain": [
       "<AxesSubplot:title={'center':'Total Number of Customers at Checkout in each Section Over Time'}, xlabel='day,hour'>"
      ]
     },
     "execution_count": 25,
     "metadata": {},
     "output_type": "execute_result"
    },
    {
     "data": {
      "image/png": "[encoded data removed]",
      "text/plain": [
       "<Figure size 1080x720 with 1 Axes>"
      ]
     },
     "metadata": {
      "needs_background": "light"
     },
     "output_type": "display_data"
    }
   ],
   "source": [
    "nccot = weekdays.groupby(by=[\"day\", \"hour\", \"location\"])[\"customer_no\"].count().unstack(2)[\"checkout\"]\n",
    "nccot.plot(kind='bar', figsize= (15, 10), use_index=True, title= \"Total Number of Customers at Checkout in each Section Over Time\", fontsize= 15)"
   ]
  },
  {
   "cell_type": "code",
   "execution_count": null,
   "metadata": {},
   "outputs": [],
   "source": [
    "costumers_checkout=df.loc[df['location']=='checkout']\n",
    "costumers_checkout"
   ]
  },
  {
   "cell_type": "code",
   "execution_count": null,
   "metadata": {},
   "outputs": [],
   "source": [
    "\n",
    "\n",
    "sns.barplot(data=nccot #plot the number of customers in checkout section\n",
    "             , x='hour', y= 'customer_no')\n",
    "\n"
   ]
  },
  {
   "cell_type": "markdown",
   "metadata": {},
   "source": [
    "### 4. Calculate the time each customer spent in the market"
   ]
  },
  {
   "cell_type": "code",
   "execution_count": null,
   "metadata": {},
   "outputs": [],
   "source": [
    "time_ = total.reset_index()\n",
    "time_in_market = (\n",
    "    time_.groupby([\"customer_no\", \"day\"])[[\"timestamp\"]].last()\n",
    "    - time_.groupby([\"customer_no\", \"day\"])[[\"timestamp\"]].first()\n",
    ")\n",
    "time_in_market[\"counter\"] = 1\n",
    "time_in_market.head()\n",
    "time_in_market[\"time_spent\"] = time_in_market.timestamp.dt.seconds / 60\n",
    "time_in_market.hist(column=\"time_spent\", figsize=(12, 8), bins=50)\n",
    "plt.xlabel(\"Time spent in minutes\")\n",
    "plt.ylabel(\"Nr. of customers\")\n",
    "plt.title(\"Distribution of time spent in the supermarket\")\n",
    "plt.show()"
   ]
  },
  {
   "cell_type": "code",
   "execution_count": null,
   "metadata": {},
   "outputs": [],
   "source": [
    "duration = time_in_market.groupby(\"timestamp\").count()\n",
    "duration.shape\n",
    "duration.reset_index(inplace=True)\n",
    "duration[\"time_spent\"] = duration.timestamp.dt.seconds / 60\n",
    "duration.head()"
   ]
  },
  {
   "cell_type": "code",
   "execution_count": null,
   "metadata": {},
   "outputs": [],
   "source": [
    "duration = df.reset_index()\n",
    "stay = (duration.groupby(['customer_no', \"day\"])['timestamp'].last() - duration.groupby(['customer_no', \"day\"])['timestamp'].first())\n",
    "stay.head(3)"
   ]
  },
  {
   "cell_type": "code",
   "execution_count": null,
   "metadata": {},
   "outputs": [],
   "source": [
    "duration['stay_duration'] = duration['departure'] - duration['arrival']\n",
    "duration.set_index(\"customer_no\", inplace=True)\n",
    "duration"
   ]
  },
  {
   "cell_type": "code",
   "execution_count": null,
   "metadata": {},
   "outputs": [],
   "source": [
    "tcsm = stay.to_frame()\n",
    "tcsm"
   ]
  },
  {
   "cell_type": "code",
   "execution_count": null,
   "metadata": {},
   "outputs": [],
   "source": [
    "stay.plot(x=\"customer_no\", y=\"timestamp\", figsize=(15, 10))  \n",
    "plt.ylabel(\"Time spent in minutes\")\n",
    "plt.xlabel(\"Nr. of customers\")\n",
    "plt.title(\"Distribution of time spent in the supermarket\")\n",
    "plt.show()"
   ]
  },
  {
   "cell_type": "markdown",
   "metadata": {},
   "source": [
    "### 5. Total number of customers in the supermarket over time"
   ]
  },
  {
   "cell_type": "code",
   "execution_count": null,
   "metadata": {},
   "outputs": [],
   "source": [
    "tncsot = df.groupby(df[\"hour\"])['customer_no'].count().to_frame()\n",
    "tncsot.plot(kind='bar', figsize= (15, 10), use_index=True, title= \"Total Number of Customers in Supermarket Over Time\", fontsize= 15)"
   ]
  },
  {
   "cell_type": "markdown",
   "metadata": {},
   "source": [
    "### 6. Plot the distribution of customers of their first visited section versus following sections (treat all sections visited after the first as “following”)."
   ]
  },
  {
   "cell_type": "code",
   "execution_count": null,
   "metadata": {},
   "outputs": [],
   "source": [
    "df.head()"
   ]
  },
  {
   "cell_type": "code",
   "execution_count": null,
   "metadata": {},
   "outputs": [],
   "source": [
    "first= df.groupby([\"customer_no\", \"day\"])[\"hour\", \"location\"].first()\n",
    "first.head()"
   ]
  },
  {
   "cell_type": "code",
   "execution_count": null,
   "metadata": {},
   "outputs": [],
   "source": [
    "weekdays['order'] = weekdays.groupby('customer_no')['location'].shift().to_frame()\n",
    "weekdays['order'].replace(np.NaN, 'first', inplace=True)"
   ]
  },
  {
   "cell_type": "code",
   "execution_count": null,
   "metadata": {},
   "outputs": [],
   "source": [
    "weekdays['following'] = weekdays.groupby('customer_no')['location'].shift(-1).to_frame()\n",
    "weekdays"
   ]
  },
  {
   "cell_type": "code",
   "execution_count": null,
   "metadata": {},
   "outputs": [],
   "source": [
    "fig, ax = plt.subplots(figsize=(15,6))\n",
    "sns.barplot(x='hour', y='location', hue='order', data=weekdays,\n",
    "            alpha=0.6).set(title='The sections visited first and following times', \n",
    "            ylabel='Sections', xlabel= 'Hours')"
   ]
  },
  {
   "cell_type": "code",
   "execution_count": null,
   "metadata": {},
   "outputs": [],
   "source": [
    "g= sns.FacetGrid(weekdays, col='day')\n",
    "g.map(sns.histplot,'order')\n",
    "plt.yscale(\"log\")\n",
    "plt.show"
   ]
  },
  {
   "cell_type": "code",
   "execution_count": null,
   "metadata": {},
   "outputs": [],
   "source": [
    "weekdays.groupby(['order','day']).order.count().unstack(0).plot.bar() "
   ]
  },
  {
   "cell_type": "markdown",
   "metadata": {},
   "source": [
    "#### Crosstab function and some other approaches!"
   ]
  },
  {
   "cell_type": "code",
   "execution_count": null,
   "metadata": {},
   "outputs": [],
   "source": [
    "pd.crosstab([df.customer_no, df.hour], [df.location], dropna=False)"
   ]
  },
  {
   "cell_type": "code",
   "execution_count": null,
   "metadata": {},
   "outputs": [],
   "source": [
    "total = pd.crosstab(df.hour, df.location, values = df.customer_no, aggfunc='count',margins=True, margins_name= 'Total', dropna=True)\n"
   ]
  },
  {
   "cell_type": "code",
   "execution_count": null,
   "metadata": {},
   "outputs": [],
   "source": [
    "my_colors = [(0.5,0.4,0.5), (0.75, 0.75, 0.25), (0.75, 0, 0.75), (0.3010, 0.7450, 0.9330) ,\n",
    "            (0, 0.4470, 0.7410), (1, 0, 0), (0, 0.75, 0.75)] *5\n",
    "\n",
    "total.plot(kind='bar', figsize= (15, 10), use_index=True, title= \"Total Number of Customers in each Section\", fontsize= 15, color = my_colors, stacked=True)\n"
   ]
  },
  {
   "cell_type": "markdown",
   "metadata": {},
   "source": [
    "####  Calculate the total number of customers in the supermarket over time.\n"
   ]
  },
  {
   "cell_type": "code",
   "execution_count": null,
   "metadata": {},
   "outputs": [],
   "source": [
    "df['time_leaving'] = df.groupby(['customer_no'])['timestamp'].min()\n",
    "df['time_arrival'] = df.groupby(['customer_no'])['timestamp'].max()\n",
    "df['arrival'] = pd.to_datetime(df['time_arrival'])\n",
    "df['departure'] = pd.to_datetime(df['time_leaving'])\n",
    "df['stay_duration'] = df['arrival'] - df['departure']\n",
    "\n",
    "df = df.drop(columns=['time_arrival', 'time_leaving'])"
   ]
  }
 ],
 "metadata": {
  "kernelspec": {
   "display_name": "Python 3",
   "language": "python",
   "name": "python3"
  },
  "language_info": {
   "codemirror_mode": {
    "name": "ipython",
    "version": 3
   },
   "file_extension": ".py",
   "mimetype": "text/x-python",
   "name": "python",
   "nbconvert_exporter": "python",
   "pygments_lexer": "ipython3",
   "version": "3.8.5"
  }
 },
 "nbformat": 4,
 "nbformat_minor": 4
}
